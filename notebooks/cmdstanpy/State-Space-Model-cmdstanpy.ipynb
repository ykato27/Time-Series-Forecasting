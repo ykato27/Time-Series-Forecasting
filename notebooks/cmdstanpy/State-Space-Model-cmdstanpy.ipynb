{
 "cells": [
  {
   "cell_type": "markdown",
   "metadata": {},
   "source": [
    "## 状態空間モデルで時系列予測を行う（cmdstanpy）"
   ]
  },
  {
   "cell_type": "code",
   "execution_count": 1,
   "metadata": {},
   "outputs": [],
   "source": [
    "%load_ext lab_black"
   ]
  },
  {
   "cell_type": "code",
   "execution_count": 3,
   "metadata": {},
   "outputs": [
    {
     "name": "stderr",
     "output_type": "stream",
     "text": [
      "INFO:cmdstanpy:compiling stan program, exe file: /work/notebooks/cmdstanpy/8schools\n",
      "INFO:cmdstanpy:compiler options: stanc_options=None, cpp_options=None\n"
     ]
    },
    {
     "name": "stdout",
     "output_type": "stream",
     "text": [
      "Compile started\n"
     ]
    },
    {
     "name": "stderr",
     "output_type": "stream",
     "text": [
      "INFO:cmdstanpy:compiled model file: /work/notebooks/cmdstanpy/8schools\n",
      "INFO:cmdstanpy:start chain 1\n"
     ]
    },
    {
     "name": "stdout",
     "output_type": "stream",
     "text": [
      "Compile finished\n",
      "CmdStanModel: name=8schools\n",
      "\t stan_file=/work/notebooks/cmdstanpy/8schools.stan\n",
      "\t exe_file=/work/notebooks/cmdstanpy/8schools\n",
      "\t compiler_optons=stanc_options=None, cpp_options=None\n",
      "========================================\n",
      "Sampling started\n"
     ]
    },
    {
     "name": "stderr",
     "output_type": "stream",
     "text": [
      "INFO:cmdstanpy:finish chain 1\n",
      "INFO:cmdstanpy:start chain 2\n",
      "INFO:cmdstanpy:finish chain 2\n",
      "INFO:cmdstanpy:start chain 3\n",
      "INFO:cmdstanpy:finish chain 3\n",
      "INFO:cmdstanpy:start chain 4\n",
      "INFO:cmdstanpy:finish chain 4\n"
     ]
    },
    {
     "ename": "ValueError",
     "evalue": "csv file header mismatch, file /tmp/tmp35agx1de/8schools-202107250521-4-7lkbp9f9.csv, key start_datetime is 2021-07-25 05:21:53 UTC, expected 2021-07-25 05:21:54 UTC",
     "output_type": "error",
     "traceback": [
      "\u001b[0;31m---------------------------------------------------------------------------\u001b[0m",
      "\u001b[0;31mValueError\u001b[0m                                Traceback (most recent call last)",
      "\u001b[0;32m/tmp/ipykernel_18/49338563.py\u001b[0m in \u001b[0;36m<module>\u001b[0;34m\u001b[0m\n\u001b[1;32m      8\u001b[0m \u001b[0mdata\u001b[0m \u001b[0;34m=\u001b[0m \u001b[0;34m\"8schools.data.json\"\u001b[0m\u001b[0;34m\u001b[0m\u001b[0;34m\u001b[0m\u001b[0m\n\u001b[1;32m      9\u001b[0m \u001b[0mprint\u001b[0m\u001b[0;34m(\u001b[0m\u001b[0;34m\"Sampling started\"\u001b[0m\u001b[0;34m)\u001b[0m\u001b[0;34m\u001b[0m\u001b[0;34m\u001b[0m\u001b[0m\n\u001b[0;32m---> 10\u001b[0;31m \u001b[0mfit\u001b[0m \u001b[0;34m=\u001b[0m \u001b[0mmodel\u001b[0m\u001b[0;34m.\u001b[0m\u001b[0msample\u001b[0m\u001b[0;34m(\u001b[0m\u001b[0mdata\u001b[0m\u001b[0;34m=\u001b[0m\u001b[0mdata\u001b[0m\u001b[0;34m)\u001b[0m\u001b[0;34m\u001b[0m\u001b[0;34m\u001b[0m\u001b[0m\n\u001b[0m\u001b[1;32m     11\u001b[0m \u001b[0mprint\u001b[0m\u001b[0;34m(\u001b[0m\u001b[0;34m\"Sampling finished\"\u001b[0m\u001b[0;34m)\u001b[0m\u001b[0;34m\u001b[0m\u001b[0;34m\u001b[0m\u001b[0m\n\u001b[1;32m     12\u001b[0m \u001b[0mprint\u001b[0m\u001b[0;34m(\u001b[0m\u001b[0mfit\u001b[0m\u001b[0;34m)\u001b[0m\u001b[0;34m\u001b[0m\u001b[0;34m\u001b[0m\u001b[0m\n",
      "\u001b[0;32m/tmp/Python/python-3.9.5/lib/python3.9/site-packages/cmdstanpy/model.py\u001b[0m in \u001b[0;36msample\u001b[0;34m(self, data, chains, cores, seed, chain_ids, inits, iter_warmup, iter_sampling, save_warmup, thin, max_treedepth, metric, step_size, adapt_engaged, adapt_delta, fixed_param, output_dir, save_diagnostics, show_progress)\u001b[0m\n\u001b[1;32m    713\u001b[0m \u001b[0;34m\u001b[0m\u001b[0m\n\u001b[1;32m    714\u001b[0m             \u001b[0mmcmc\u001b[0m \u001b[0;34m=\u001b[0m \u001b[0mCmdStanMCMC\u001b[0m\u001b[0;34m(\u001b[0m\u001b[0mrunset\u001b[0m\u001b[0;34m,\u001b[0m \u001b[0mfixed_param\u001b[0m\u001b[0;34m)\u001b[0m\u001b[0;34m\u001b[0m\u001b[0;34m\u001b[0m\u001b[0m\n\u001b[0;32m--> 715\u001b[0;31m             \u001b[0mmcmc\u001b[0m\u001b[0;34m.\u001b[0m\u001b[0m_validate_csv_files\u001b[0m\u001b[0;34m(\u001b[0m\u001b[0;34m)\u001b[0m\u001b[0;34m\u001b[0m\u001b[0;34m\u001b[0m\u001b[0m\n\u001b[0m\u001b[1;32m    716\u001b[0m         \u001b[0;32mreturn\u001b[0m \u001b[0mmcmc\u001b[0m\u001b[0;34m\u001b[0m\u001b[0;34m\u001b[0m\u001b[0m\n\u001b[1;32m    717\u001b[0m \u001b[0;34m\u001b[0m\u001b[0m\n",
      "\u001b[0;32m/tmp/Python/python-3.9.5/lib/python3.9/site-packages/cmdstanpy/stanfit.py\u001b[0m in \u001b[0;36m_validate_csv_files\u001b[0;34m(self)\u001b[0m\n\u001b[1;32m    370\u001b[0m                         \u001b[0;32mand\u001b[0m \u001b[0mdzero\u001b[0m\u001b[0;34m[\u001b[0m\u001b[0mkey\u001b[0m\u001b[0;34m]\u001b[0m \u001b[0;34m!=\u001b[0m \u001b[0mdrest\u001b[0m\u001b[0;34m[\u001b[0m\u001b[0mkey\u001b[0m\u001b[0;34m]\u001b[0m\u001b[0;34m\u001b[0m\u001b[0;34m\u001b[0m\u001b[0m\n\u001b[1;32m    371\u001b[0m                     ):\n\u001b[0;32m--> 372\u001b[0;31m                         raise ValueError(\n\u001b[0m\u001b[1;32m    373\u001b[0m                             \u001b[0;34m'csv file header mismatch, '\u001b[0m\u001b[0;34m\u001b[0m\u001b[0;34m\u001b[0m\u001b[0m\n\u001b[1;32m    374\u001b[0m                             'file {}, key {} is {}, expected {}'.format(\n",
      "\u001b[0;31mValueError\u001b[0m: csv file header mismatch, file /tmp/tmp35agx1de/8schools-202107250521-4-7lkbp9f9.csv, key start_datetime is 2021-07-25 05:21:53 UTC, expected 2021-07-25 05:21:54 UTC"
     ]
    }
   ],
   "source": [
    "from cmdstanpy import CmdStanModel\n",
    "\n",
    "print(\"Compile started\")\n",
    "model = CmdStanModel(stan_file=\"8schools.stan\")\n",
    "print(\"Compile finished\")\n",
    "print(model)\n",
    "print(\"========================================\")\n",
    "data = \"8schools.data.json\"\n",
    "print(\"Sampling started\")\n",
    "fit = model.sample(data=data)\n",
    "print(\"Sampling finished\")\n",
    "print(fit)"
   ]
  },
  {
   "cell_type": "code",
   "execution_count": 7,
   "metadata": {},
   "outputs": [],
   "source": [
    "# 必要なライブラリーのインポート\n",
    "import numpy as np\n",
    "import pandas as pd\n",
    "from numpy.random import *\n",
    "from scipy import stats\n",
    "from cmdstanpy import cmdstan_path, CmdStanModel\n",
    "import matplotlib.pyplot as plt\n",
    "import seaborn as sns\n",
    "\n",
    "%matplotlib inline\n",
    "\n",
    "# グラフを横長にする\n",
    "from matplotlib import rcParams\n",
    "\n",
    "rcParams[\"figure.figsize\"] = 10, 6\n",
    "sns.set()\n",
    "\n",
    "import warnings\n",
    "\n",
    "warnings.filterwarnings(\"ignore\")"
   ]
  },
  {
   "cell_type": "code",
   "execution_count": 3,
   "metadata": {
    "colab": {
     "base_uri": "https://localhost:8080/",
     "height": 204
    },
    "id": "_i5EaZnpB_a4",
    "outputId": "bbb96464-0184-4056-ad8a-c0b5b821c490"
   },
   "outputs": [
    {
     "data": {
      "text/html": [
       "<div>\n",
       "<style scoped>\n",
       "    .dataframe tbody tr th:only-of-type {\n",
       "        vertical-align: middle;\n",
       "    }\n",
       "\n",
       "    .dataframe tbody tr th {\n",
       "        vertical-align: top;\n",
       "    }\n",
       "\n",
       "    .dataframe thead th {\n",
       "        text-align: right;\n",
       "    }\n",
       "</style>\n",
       "<table border=\"1\" class=\"dataframe\">\n",
       "  <thead>\n",
       "    <tr style=\"text-align: right;\">\n",
       "      <th></th>\n",
       "      <th>Month</th>\n",
       "      <th>Passengers</th>\n",
       "    </tr>\n",
       "  </thead>\n",
       "  <tbody>\n",
       "    <tr>\n",
       "      <th>0</th>\n",
       "      <td>1949-01</td>\n",
       "      <td>112</td>\n",
       "    </tr>\n",
       "    <tr>\n",
       "      <th>1</th>\n",
       "      <td>1949-02</td>\n",
       "      <td>118</td>\n",
       "    </tr>\n",
       "    <tr>\n",
       "      <th>2</th>\n",
       "      <td>1949-03</td>\n",
       "      <td>132</td>\n",
       "    </tr>\n",
       "    <tr>\n",
       "      <th>3</th>\n",
       "      <td>1949-04</td>\n",
       "      <td>129</td>\n",
       "    </tr>\n",
       "    <tr>\n",
       "      <th>4</th>\n",
       "      <td>1949-05</td>\n",
       "      <td>121</td>\n",
       "    </tr>\n",
       "  </tbody>\n",
       "</table>\n",
       "</div>"
      ],
      "text/plain": [
       "     Month  Passengers\n",
       "0  1949-01         112\n",
       "1  1949-02         118\n",
       "2  1949-03         132\n",
       "3  1949-04         129\n",
       "4  1949-05         121"
      ]
     },
     "execution_count": 3,
     "metadata": {},
     "output_type": "execute_result"
    }
   ],
   "source": [
    "# データの読み込み\n",
    "# https://stat.ethz.ch/R-manual/R-devel/library/datasets/html/AirPassengers.html\n",
    "df = pd.read_csv(\"../../data/AirPassengers.csv\")\n",
    "\n",
    "# float型に変換\n",
    "# df['#Passengers'] = df['#Passengers'].astype('float64')\n",
    "df = df.rename(columns={\"#Passengers\": \"Passengers\"})\n",
    "\n",
    "# datetime型にしてインデックスにする\n",
    "# df.Month = pd.to_datetime(df.Month)\n",
    "# df = df.set_index(\"Month\")\n",
    "\n",
    "# データの中身を確認\n",
    "df.head()"
   ]
  },
  {
   "cell_type": "code",
   "execution_count": 14,
   "metadata": {},
   "outputs": [
    {
     "name": "stdout",
     "output_type": "stream",
     "text": [
      "State-Space-Model-cmdstanpy.ipynb  local_level.stan\n"
     ]
    }
   ],
   "source": [
    "!ls"
   ]
  },
  {
   "cell_type": "code",
   "execution_count": 13,
   "metadata": {
    "colab": {
     "base_uri": "https://localhost:8080/"
    },
    "id": "3dloraHQDTjy",
    "outputId": "5ab6862d-da6a-4548-fa6d-522fb20d31df"
   },
   "outputs": [
    {
     "name": "stderr",
     "output_type": "stream",
     "text": [
      "INFO:cmdstanpy:compiling stan program, exe file: /work/notebooks/cmdstanpy/local_level\n",
      "INFO:cmdstanpy:compiler options: stanc_options=None, cpp_options=None\n"
     ]
    },
    {
     "ename": "ValueError",
     "evalue": "no CmdStan installation found, run command line script \"install_cmdstan\"",
     "output_type": "error",
     "traceback": [
      "\u001b[0;31m---------------------------------------------------------------------------\u001b[0m",
      "\u001b[0;31mValueError\u001b[0m                                Traceback (most recent call last)",
      "\u001b[0;32m<ipython-input-13-43982562915c>\u001b[0m in \u001b[0;36m<module>\u001b[0;34m\u001b[0m\n\u001b[0;32m----> 1\u001b[0;31m \u001b[0mstan_model\u001b[0m \u001b[0;34m=\u001b[0m \u001b[0mCmdStanModel\u001b[0m\u001b[0;34m(\u001b[0m\u001b[0mstan_file\u001b[0m\u001b[0;34m=\u001b[0m\u001b[0;34m'./local_level.stan'\u001b[0m\u001b[0;34m)\u001b[0m\u001b[0;34m\u001b[0m\u001b[0;34m\u001b[0m\u001b[0m\n\u001b[0m",
      "\u001b[0;32m/opt/anaconda3/lib/python3.8/site-packages/cmdstanpy/model.py\u001b[0m in \u001b[0;36m__init__\u001b[0;34m(self, model_name, stan_file, exe_file, compile, stanc_options, cpp_options, logger)\u001b[0m\n\u001b[1;32m    177\u001b[0m \u001b[0;34m\u001b[0m\u001b[0m\n\u001b[1;32m    178\u001b[0m         \u001b[0;32mif\u001b[0m \u001b[0mcompile\u001b[0m \u001b[0;32mand\u001b[0m \u001b[0mself\u001b[0m\u001b[0;34m.\u001b[0m\u001b[0m_exe_file\u001b[0m \u001b[0;32mis\u001b[0m \u001b[0;32mNone\u001b[0m\u001b[0;34m:\u001b[0m\u001b[0;34m\u001b[0m\u001b[0;34m\u001b[0m\u001b[0m\n\u001b[0;32m--> 179\u001b[0;31m             \u001b[0mself\u001b[0m\u001b[0;34m.\u001b[0m\u001b[0mcompile\u001b[0m\u001b[0;34m(\u001b[0m\u001b[0;34m)\u001b[0m\u001b[0;34m\u001b[0m\u001b[0;34m\u001b[0m\u001b[0m\n\u001b[0m\u001b[1;32m    180\u001b[0m             \u001b[0;32mif\u001b[0m \u001b[0mself\u001b[0m\u001b[0;34m.\u001b[0m\u001b[0m_exe_file\u001b[0m \u001b[0;32mis\u001b[0m \u001b[0;32mNone\u001b[0m\u001b[0;34m:\u001b[0m\u001b[0;34m\u001b[0m\u001b[0;34m\u001b[0m\u001b[0m\n\u001b[1;32m    181\u001b[0m                 raise ValueError(\n",
      "\u001b[0;32m/opt/anaconda3/lib/python3.8/site-packages/cmdstanpy/model.py\u001b[0m in \u001b[0;36mcompile\u001b[0;34m(self, force, stanc_options, cpp_options, override_options)\u001b[0m\n\u001b[1;32m    325\u001b[0m                     \u001b[0mcmd\u001b[0m\u001b[0;34m.\u001b[0m\u001b[0mappend\u001b[0m\u001b[0;34m(\u001b[0m\u001b[0mPath\u001b[0m\u001b[0;34m(\u001b[0m\u001b[0mexe_file\u001b[0m\u001b[0;34m)\u001b[0m\u001b[0;34m.\u001b[0m\u001b[0mas_posix\u001b[0m\u001b[0;34m(\u001b[0m\u001b[0;34m)\u001b[0m\u001b[0;34m)\u001b[0m\u001b[0;34m\u001b[0m\u001b[0;34m\u001b[0m\u001b[0m\n\u001b[1;32m    326\u001b[0m                     \u001b[0;32mtry\u001b[0m\u001b[0;34m:\u001b[0m\u001b[0;34m\u001b[0m\u001b[0;34m\u001b[0m\u001b[0m\n\u001b[0;32m--> 327\u001b[0;31m                         \u001b[0mdo_command\u001b[0m\u001b[0;34m(\u001b[0m\u001b[0mcmd\u001b[0m\u001b[0;34m,\u001b[0m \u001b[0mcmdstan_path\u001b[0m\u001b[0;34m(\u001b[0m\u001b[0;34m)\u001b[0m\u001b[0;34m,\u001b[0m \u001b[0mlogger\u001b[0m\u001b[0;34m=\u001b[0m\u001b[0mself\u001b[0m\u001b[0;34m.\u001b[0m\u001b[0m_logger\u001b[0m\u001b[0;34m)\u001b[0m\u001b[0;34m\u001b[0m\u001b[0;34m\u001b[0m\u001b[0m\n\u001b[0m\u001b[1;32m    328\u001b[0m                     \u001b[0;32mexcept\u001b[0m \u001b[0mRuntimeError\u001b[0m \u001b[0;32mas\u001b[0m \u001b[0me\u001b[0m\u001b[0;34m:\u001b[0m\u001b[0;34m\u001b[0m\u001b[0;34m\u001b[0m\u001b[0m\n\u001b[1;32m    329\u001b[0m                         self._logger.error(\n",
      "\u001b[0;32m/opt/anaconda3/lib/python3.8/site-packages/cmdstanpy/utils.py\u001b[0m in \u001b[0;36mcmdstan_path\u001b[0;34m()\u001b[0m\n\u001b[1;32m    143\u001b[0m             \u001b[0mcmdstan_dir\u001b[0m \u001b[0;34m=\u001b[0m \u001b[0mos\u001b[0m\u001b[0;34m.\u001b[0m\u001b[0mpath\u001b[0m\u001b[0;34m.\u001b[0m\u001b[0mexpanduser\u001b[0m\u001b[0;34m(\u001b[0m\u001b[0mos\u001b[0m\u001b[0;34m.\u001b[0m\u001b[0mpath\u001b[0m\u001b[0;34m.\u001b[0m\u001b[0mjoin\u001b[0m\u001b[0;34m(\u001b[0m\u001b[0;34m'~'\u001b[0m\u001b[0;34m,\u001b[0m \u001b[0m_DOT_CMDSTANPY\u001b[0m\u001b[0;34m)\u001b[0m\u001b[0;34m)\u001b[0m\u001b[0;34m\u001b[0m\u001b[0;34m\u001b[0m\u001b[0m\n\u001b[1;32m    144\u001b[0m             \u001b[0;32mif\u001b[0m \u001b[0;32mnot\u001b[0m \u001b[0mos\u001b[0m\u001b[0;34m.\u001b[0m\u001b[0mpath\u001b[0m\u001b[0;34m.\u001b[0m\u001b[0mexists\u001b[0m\u001b[0;34m(\u001b[0m\u001b[0mcmdstan_dir\u001b[0m\u001b[0;34m)\u001b[0m\u001b[0;34m:\u001b[0m\u001b[0;34m\u001b[0m\u001b[0;34m\u001b[0m\u001b[0m\n\u001b[0;32m--> 145\u001b[0;31m                 raise ValueError(\n\u001b[0m\u001b[1;32m    146\u001b[0m                     \u001b[0;34m'no CmdStan installation found, '\u001b[0m\u001b[0;34m\u001b[0m\u001b[0;34m\u001b[0m\u001b[0m\n\u001b[1;32m    147\u001b[0m                     \u001b[0;34m'run command line script \"install_cmdstan\"'\u001b[0m\u001b[0;34m\u001b[0m\u001b[0;34m\u001b[0m\u001b[0m\n",
      "\u001b[0;31mValueError\u001b[0m: no CmdStan installation found, run command line script \"install_cmdstan\""
     ]
    }
   ],
   "source": [
    "stan_model = CmdStanModel(stan_file='./local_level.stan')"
   ]
  },
  {
   "cell_type": "code",
   "execution_count": null,
   "metadata": {
    "id": "kO_OwTskDZzx"
   },
   "outputs": [],
   "source": [
    "y = df[\"Passengers\"]\n",
    "T = 130 #学習期間\n",
    "M = 14 #予測期間\n",
    "\n",
    "y_train = y[:-M]\n",
    "y_test = y[-M:]"
   ]
  },
  {
   "cell_type": "code",
   "execution_count": null,
   "metadata": {
    "id": "MEbWs13eEeT7"
   },
   "outputs": [],
   "source": [
    "y_train = y[:-M]\n",
    "y_test = y[-M:]"
   ]
  },
  {
   "cell_type": "code",
   "execution_count": null,
   "metadata": {
    "id": "keLDZ27IEt8C"
   },
   "outputs": [],
   "source": [
    "predict_dat = {'T': T, 'M' : M, 'Y': y_train}"
   ]
  },
  {
   "cell_type": "code",
   "execution_count": null,
   "metadata": {
    "colab": {
     "base_uri": "https://localhost:8080/"
    },
    "id": "fDqz6h_mFNhY",
    "outputId": "6082bdda-85c5-4bcc-e685-987776b82100"
   },
   "outputs": [],
   "source": [
    "fit_local_level = stan_model.sampling(data=predict_dat, iter=3000, chains=1, seed=10, n_jobs=1)"
   ]
  },
  {
   "cell_type": "code",
   "execution_count": null,
   "metadata": {
    "colab": {
     "base_uri": "https://localhost:8080/"
    },
    "id": "orSubpamFlN_",
    "outputId": "16ba6ebf-2444-4849-dd2e-03cec9c78c91"
   },
   "outputs": [],
   "source": [
    "fit_local_level"
   ]
  },
  {
   "cell_type": "code",
   "execution_count": null,
   "metadata": {
    "id": "TIg-GasNJHtc"
   },
   "outputs": [],
   "source": [
    "# サンプリング結果の抽出\n",
    "ms_local_level = fit_local_level.extract()\n",
    "y_pred = ms_local_level['y_pred'].mean(axis=0)"
   ]
  },
  {
   "cell_type": "code",
   "execution_count": null,
   "metadata": {
    "id": "ooy5KtjuJezn"
   },
   "outputs": [],
   "source": [
    "quantile = [5, 95]\n",
    "per_5_95 = np.percentile(ms_local_level['y_pred'], q=quantile, axis=0).T\n",
    "colname = ['p5', 'p95']\n",
    "df_pred = pd.DataFrame(per_5_95, columns=colname)"
   ]
  },
  {
   "cell_type": "code",
   "execution_count": null,
   "metadata": {
    "colab": {
     "base_uri": "https://localhost:8080/",
     "height": 419
    },
    "id": "PRZ54VJeJki7",
    "outputId": "0f0b8bb1-dccc-4004-eb12-6e126606df38"
   },
   "outputs": [],
   "source": [
    "df_pred"
   ]
  },
  {
   "cell_type": "code",
   "execution_count": null,
   "metadata": {
    "id": "VuOf9vT3JmDJ"
   },
   "outputs": [],
   "source": [
    "# 予測値を追加\n",
    "df_pred['y_pred'] = y_pred"
   ]
  },
  {
   "cell_type": "code",
   "execution_count": null,
   "metadata": {
    "id": "xB93QME8Jn5q"
   },
   "outputs": [],
   "source": [
    "mu_hat = ms_local_level['mu'].mean(axis=0)"
   ]
  },
  {
   "cell_type": "code",
   "execution_count": null,
   "metadata": {
    "id": "lkNcT7-yJpeb"
   },
   "outputs": [],
   "source": [
    "# 状態の推定値を追加\n",
    "df_pred['mu_hat'] = np.nan\n",
    "df_pred.loc[0:129,'mu_hat'] = mu_hat"
   ]
  },
  {
   "cell_type": "code",
   "execution_count": null,
   "metadata": {
    "colab": {
     "base_uri": "https://localhost:8080/",
     "height": 377
    },
    "id": "fx1v5t8UJqhA",
    "outputId": "e372d5fb-b1ce-4d15-e011-3b74062fd50c"
   },
   "outputs": [],
   "source": [
    "df.plot(y=\"Passengers\", legend=False) # 目的変数\n",
    "plt.plot(df_pred[['p5','p95']][-14:], linestyle=\"dashed\", color='purple') # 予測区間\n",
    "plt.plot(df_pred[['y_pred']][-14:], color='red') # 予測値\n",
    "plt.plot(mu_hat, color='green') # 状態\n",
    "plt.show()"
   ]
  },
  {
   "cell_type": "code",
   "execution_count": null,
   "metadata": {
    "id": "vwHo5ZicJ6PQ"
   },
   "outputs": [],
   "source": []
  }
 ],
 "metadata": {
  "colab": {
   "authorship_tag": "ABX9TyNfjJkgCxlyBZYniFml40Fp",
   "name": "状態空間モデル.ipynb",
   "provenance": []
  },
  "kernelspec": {
   "display_name": "Python 3 (ipykernel)",
   "language": "python",
   "name": "python3"
  },
  "language_info": {
   "codemirror_mode": {
    "name": "ipython",
    "version": 3
   },
   "file_extension": ".py",
   "mimetype": "text/x-python",
   "name": "python",
   "nbconvert_exporter": "python",
   "pygments_lexer": "ipython3",
   "version": "3.9.5"
  }
 },
 "nbformat": 4,
 "nbformat_minor": 4
}
