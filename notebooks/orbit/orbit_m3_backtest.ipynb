{
  "nbformat": 4,
  "nbformat_minor": 5,
  "metadata": {
    "colab": {
      "name": "orbit_m3_backtest.ipynb",
      "provenance": [],
      "collapsed_sections": [],
      "include_colab_link": true
    },
    "kernelspec": {
      "name": "python3",
      "display_name": "Python 3"
    },
    "language_info": {
      "name": "python"
    }
  },
  "cells": [
    {
      "cell_type": "markdown",
      "metadata": {
        "id": "view-in-github",
        "colab_type": "text"
      },
      "source": [
        "<a href=\"https://colab.research.google.com/github/ykato27/Time-Series-Forecasting/blob/main/orbit_m3_backtest.ipynb\" target=\"_parent\"><img src=\"https://colab.research.google.com/assets/colab-badge.svg\" alt=\"Open In Colab\"/></a>"
      ]
    },
    {
      "cell_type": "markdown",
      "metadata": {
        "id": "994f63e1"
      },
      "source": [
        "# A Demo on Backtesting M3 with Various Models"
      ],
      "id": "994f63e1"
    },
    {
      "cell_type": "markdown",
      "metadata": {
        "id": "be2cd336"
      },
      "source": [
        "This notebook aims to\n",
        "1. provide a simple demo how to backtest models with orbit provided functions.  \n",
        "2. add transperancy how our accuracy metrics are derived in https://arxiv.org/abs/2004.08492.\n",
        "\n",
        "Due to versioning and random seed, there could be subtle difference for the final numbers. This notebook should also be available in colab."
      ],
      "id": "be2cd336"
    },
    {
      "cell_type": "code",
      "metadata": {
        "id": "2166de6a",
        "colab": {
          "base_uri": "https://localhost:8080/",
          "height": 1000
        },
        "outputId": "1ff8a91f-5bdf-4b16-f1cb-4c3d0d32bf06"
      },
      "source": [
        "!pip install git+https://github.com/uber/orbit.git@dev\n",
        "!pip install fbprophet==0.7.1"
      ],
      "id": "2166de6a",
      "execution_count": 1,
      "outputs": [
        {
          "output_type": "stream",
          "name": "stdout",
          "text": [
            "Collecting git+https://github.com/uber/orbit.git@dev\n",
            "  Cloning https://github.com/uber/orbit.git (to revision dev) to /tmp/pip-req-build-lm_k07bg\n",
            "  Running command git clone -q https://github.com/uber/orbit.git /tmp/pip-req-build-lm_k07bg\n",
            "Requirement already satisfied: numpy>=1.18.2 in /usr/local/lib/python3.7/dist-packages (from orbit-ml==1.1.0.dev0) (1.19.5)\n",
            "Requirement already satisfied: pandas>=1.0.3 in /usr/local/lib/python3.7/dist-packages (from orbit-ml==1.1.0.dev0) (1.1.5)\n",
            "Requirement already satisfied: pystan==2.19.1.1 in /usr/local/lib/python3.7/dist-packages (from orbit-ml==1.1.0.dev0) (2.19.1.1)\n",
            "Collecting matplotlib>=3.3.2\n",
            "  Downloading matplotlib-3.4.3-cp37-cp37m-manylinux1_x86_64.whl (10.3 MB)\n",
            "\u001b[K     |████████████████████████████████| 10.3 MB 27.8 MB/s \n",
            "\u001b[?25hRequirement already satisfied: scipy>=1.4.1 in /usr/local/lib/python3.7/dist-packages (from orbit-ml==1.1.0.dev0) (1.4.1)\n",
            "Requirement already satisfied: torch in /usr/local/lib/python3.7/dist-packages (from orbit-ml==1.1.0.dev0) (1.9.0+cu111)\n",
            "Requirement already satisfied: tqdm in /usr/local/lib/python3.7/dist-packages (from orbit-ml==1.1.0.dev0) (4.62.3)\n",
            "Requirement already satisfied: seaborn>=0.10.0 in /usr/local/lib/python3.7/dist-packages (from orbit-ml==1.1.0.dev0) (0.11.2)\n",
            "Collecting pyro-ppl>=1.4.0\n",
            "  Downloading pyro_ppl-1.7.0-py3-none-any.whl (678 kB)\n",
            "\u001b[K     |████████████████████████████████| 678 kB 46.0 MB/s \n",
            "\u001b[?25hCollecting statsmodels>=0.11.1\n",
            "  Downloading statsmodels-0.13.0-cp37-cp37m-manylinux_2_17_x86_64.manylinux2014_x86_64.whl (9.8 MB)\n",
            "\u001b[K     |████████████████████████████████| 9.8 MB 37.7 MB/s \n",
            "\u001b[?25hRequirement already satisfied: arviz in /usr/local/lib/python3.7/dist-packages (from orbit-ml==1.1.0.dev0) (0.11.4)\n",
            "Requirement already satisfied: Cython!=0.25.1,>=0.22 in /usr/local/lib/python3.7/dist-packages (from pystan==2.19.1.1->orbit-ml==1.1.0.dev0) (0.29.24)\n",
            "Requirement already satisfied: pyparsing>=2.2.1 in /usr/local/lib/python3.7/dist-packages (from matplotlib>=3.3.2->orbit-ml==1.1.0.dev0) (2.4.7)\n",
            "Requirement already satisfied: pillow>=6.2.0 in /usr/local/lib/python3.7/dist-packages (from matplotlib>=3.3.2->orbit-ml==1.1.0.dev0) (7.1.2)\n",
            "Requirement already satisfied: cycler>=0.10 in /usr/local/lib/python3.7/dist-packages (from matplotlib>=3.3.2->orbit-ml==1.1.0.dev0) (0.10.0)\n",
            "Requirement already satisfied: python-dateutil>=2.7 in /usr/local/lib/python3.7/dist-packages (from matplotlib>=3.3.2->orbit-ml==1.1.0.dev0) (2.8.2)\n",
            "Requirement already satisfied: kiwisolver>=1.0.1 in /usr/local/lib/python3.7/dist-packages (from matplotlib>=3.3.2->orbit-ml==1.1.0.dev0) (1.3.2)\n",
            "Requirement already satisfied: six in /usr/local/lib/python3.7/dist-packages (from cycler>=0.10->matplotlib>=3.3.2->orbit-ml==1.1.0.dev0) (1.15.0)\n",
            "Requirement already satisfied: pytz>=2017.2 in /usr/local/lib/python3.7/dist-packages (from pandas>=1.0.3->orbit-ml==1.1.0.dev0) (2018.9)\n",
            "Collecting pyro-api>=0.1.1\n",
            "  Downloading pyro_api-0.1.2-py3-none-any.whl (11 kB)\n",
            "Requirement already satisfied: opt-einsum>=2.3.2 in /usr/local/lib/python3.7/dist-packages (from pyro-ppl>=1.4.0->orbit-ml==1.1.0.dev0) (3.3.0)\n",
            "Requirement already satisfied: patsy>=0.5.2 in /usr/local/lib/python3.7/dist-packages (from statsmodels>=0.11.1->orbit-ml==1.1.0.dev0) (0.5.2)\n",
            "Requirement already satisfied: typing-extensions in /usr/local/lib/python3.7/dist-packages (from torch->orbit-ml==1.1.0.dev0) (3.7.4.3)\n",
            "Requirement already satisfied: setuptools>=38.4 in /usr/local/lib/python3.7/dist-packages (from arviz->orbit-ml==1.1.0.dev0) (57.4.0)\n",
            "Requirement already satisfied: netcdf4 in /usr/local/lib/python3.7/dist-packages (from arviz->orbit-ml==1.1.0.dev0) (1.5.7)\n",
            "Requirement already satisfied: packaging in /usr/local/lib/python3.7/dist-packages (from arviz->orbit-ml==1.1.0.dev0) (21.0)\n",
            "Requirement already satisfied: xarray>=0.16.1 in /usr/local/lib/python3.7/dist-packages (from arviz->orbit-ml==1.1.0.dev0) (0.18.2)\n",
            "Requirement already satisfied: cftime in /usr/local/lib/python3.7/dist-packages (from netcdf4->arviz->orbit-ml==1.1.0.dev0) (1.5.1)\n",
            "Building wheels for collected packages: orbit-ml\n",
            "  Building wheel for orbit-ml (setup.py) ... \u001b[?25l\u001b[?25hdone\n",
            "  Created wheel for orbit-ml: filename=orbit_ml-1.1.0.dev0-py3-none-any.whl size=461155 sha256=05c7231ea7ee790da5a6f4247462e7767bf4d03749b6bbe2dc632c928ea5ca91\n",
            "  Stored in directory: /tmp/pip-ephem-wheel-cache-7ngc4w7b/wheels/ab/f9/65/8ecb7988589bb3949bff645bfcebec19620df3af8ac1c693dc\n",
            "Successfully built orbit-ml\n",
            "Installing collected packages: pyro-api, matplotlib, statsmodels, pyro-ppl, orbit-ml\n",
            "  Attempting uninstall: matplotlib\n",
            "    Found existing installation: matplotlib 3.2.2\n",
            "    Uninstalling matplotlib-3.2.2:\n",
            "      Successfully uninstalled matplotlib-3.2.2\n",
            "  Attempting uninstall: statsmodels\n",
            "    Found existing installation: statsmodels 0.10.2\n",
            "    Uninstalling statsmodels-0.10.2:\n",
            "      Successfully uninstalled statsmodels-0.10.2\n",
            "\u001b[31mERROR: pip's dependency resolver does not currently take into account all the packages that are installed. This behaviour is the source of the following dependency conflicts.\n",
            "albumentations 0.1.12 requires imgaug<0.2.7,>=0.2.5, but you have imgaug 0.2.9 which is incompatible.\u001b[0m\n",
            "Successfully installed matplotlib-3.4.3 orbit-ml-1.1.0.dev0 pyro-api-0.1.2 pyro-ppl-1.7.0 statsmodels-0.13.0\n"
          ]
        },
        {
          "output_type": "display_data",
          "data": {
            "application/vnd.colab-display-data+json": {
              "pip_warning": {
                "packages": [
                  "matplotlib",
                  "mpl_toolkits"
                ]
              }
            }
          },
          "metadata": {}
        },
        {
          "output_type": "stream",
          "name": "stdout",
          "text": [
            "Requirement already satisfied: fbprophet==0.7.1 in /usr/local/lib/python3.7/dist-packages (0.7.1)\n",
            "Requirement already satisfied: Cython>=0.22 in /usr/local/lib/python3.7/dist-packages (from fbprophet==0.7.1) (0.29.24)\n",
            "Requirement already satisfied: cmdstanpy==0.9.5 in /usr/local/lib/python3.7/dist-packages (from fbprophet==0.7.1) (0.9.5)\n",
            "Requirement already satisfied: pystan>=2.14 in /usr/local/lib/python3.7/dist-packages (from fbprophet==0.7.1) (2.19.1.1)\n",
            "Requirement already satisfied: numpy>=1.15.4 in /usr/local/lib/python3.7/dist-packages (from fbprophet==0.7.1) (1.19.5)\n",
            "Requirement already satisfied: pandas>=1.0.4 in /usr/local/lib/python3.7/dist-packages (from fbprophet==0.7.1) (1.1.5)\n",
            "Requirement already satisfied: matplotlib>=2.0.0 in /usr/local/lib/python3.7/dist-packages (from fbprophet==0.7.1) (3.4.3)\n",
            "Requirement already satisfied: LunarCalendar>=0.0.9 in /usr/local/lib/python3.7/dist-packages (from fbprophet==0.7.1) (0.0.9)\n",
            "Requirement already satisfied: convertdate>=2.1.2 in /usr/local/lib/python3.7/dist-packages (from fbprophet==0.7.1) (2.3.2)\n",
            "Requirement already satisfied: holidays>=0.10.2 in /usr/local/lib/python3.7/dist-packages (from fbprophet==0.7.1) (0.10.5.2)\n",
            "Requirement already satisfied: setuptools-git>=1.2 in /usr/local/lib/python3.7/dist-packages (from fbprophet==0.7.1) (1.2)\n",
            "Requirement already satisfied: python-dateutil>=2.8.0 in /usr/local/lib/python3.7/dist-packages (from fbprophet==0.7.1) (2.8.2)\n",
            "Requirement already satisfied: tqdm>=4.36.1 in /usr/local/lib/python3.7/dist-packages (from fbprophet==0.7.1) (4.62.3)\n",
            "Requirement already satisfied: pymeeus<=1,>=0.3.13 in /usr/local/lib/python3.7/dist-packages (from convertdate>=2.1.2->fbprophet==0.7.1) (0.5.11)\n",
            "Requirement already satisfied: pytz>=2014.10 in /usr/local/lib/python3.7/dist-packages (from convertdate>=2.1.2->fbprophet==0.7.1) (2018.9)\n",
            "Requirement already satisfied: korean-lunar-calendar in /usr/local/lib/python3.7/dist-packages (from holidays>=0.10.2->fbprophet==0.7.1) (0.2.1)\n",
            "Requirement already satisfied: six in /usr/local/lib/python3.7/dist-packages (from holidays>=0.10.2->fbprophet==0.7.1) (1.15.0)\n",
            "Requirement already satisfied: hijri-converter in /usr/local/lib/python3.7/dist-packages (from holidays>=0.10.2->fbprophet==0.7.1) (2.2.2)\n",
            "Requirement already satisfied: ephem>=3.7.5.3 in /usr/local/lib/python3.7/dist-packages (from LunarCalendar>=0.0.9->fbprophet==0.7.1) (4.1)\n",
            "Requirement already satisfied: kiwisolver>=1.0.1 in /usr/local/lib/python3.7/dist-packages (from matplotlib>=2.0.0->fbprophet==0.7.1) (1.3.2)\n",
            "Requirement already satisfied: pyparsing>=2.2.1 in /usr/local/lib/python3.7/dist-packages (from matplotlib>=2.0.0->fbprophet==0.7.1) (2.4.7)\n",
            "Requirement already satisfied: cycler>=0.10 in /usr/local/lib/python3.7/dist-packages (from matplotlib>=2.0.0->fbprophet==0.7.1) (0.10.0)\n",
            "Requirement already satisfied: pillow>=6.2.0 in /usr/local/lib/python3.7/dist-packages (from matplotlib>=2.0.0->fbprophet==0.7.1) (7.1.2)\n"
          ]
        }
      ]
    },
    {
      "cell_type": "code",
      "metadata": {
        "id": "d8a85a5b"
      },
      "source": [
        "import numpy as np\n",
        "import tqdm\n",
        "import pandas as pd\n",
        "import statsmodels.api as sm\n",
        "import inspect\n",
        "import random\n",
        "import fbprophet\n",
        "from fbprophet import Prophet\n",
        "from statsmodels.tsa.statespace.sarimax import SARIMAX\n",
        "\n",
        "import orbit\n",
        "from orbit.models import DLT\n",
        "from orbit.utils.dataset import load_m3monthly\n",
        "from orbit.diagnostics.backtest import BackTester\n",
        "from orbit.diagnostics.metrics import smape"
      ],
      "id": "d8a85a5b",
      "execution_count": 2,
      "outputs": []
    },
    {
      "cell_type": "code",
      "metadata": {
        "id": "niYwf8fWVEC9"
      },
      "source": [
        "assert orbit.__version__ == '1.1.0dev'\n",
        "assert fbprophet.__version__ == '0.7.1'"
      ],
      "id": "niYwf8fWVEC9",
      "execution_count": 3,
      "outputs": []
    },
    {
      "cell_type": "code",
      "metadata": {
        "id": "be3b8390"
      },
      "source": [
        "seed=2021\n",
        "n_sample=10\n",
        "random.seed(seed)"
      ],
      "id": "be3b8390",
      "execution_count": 4,
      "outputs": []
    },
    {
      "cell_type": "markdown",
      "metadata": {
        "id": "e394eb60"
      },
      "source": [
        "We can load the m3 dataset from orbit repository.  For demo purpose, i set `n_sample` to be `10`. Feel free to adjust it or simply run the entire dataset."
      ],
      "id": "e394eb60"
    },
    {
      "cell_type": "code",
      "metadata": {
        "colab": {
          "base_uri": "https://localhost:8080/"
        },
        "id": "3f9a81b7",
        "outputId": "b5c1a683-0b7e-46d9-9262-0c8c630e4b0d"
      },
      "source": [
        "data = load_m3monthly()\n",
        "unique_keys = data['key'].unique().tolist()\n",
        "if n_sample > 0 and n_sample < len(unique_keys):\n",
        "    sample_keys = random.sample(unique_keys, n_sample)\n",
        "    # just get the first 5 series for demo\n",
        "    data = data[data['key'].isin(sample_keys)].reset_index(drop=True)\n",
        "else:\n",
        "    sample_keys = unique_keys\n",
        "print(sample_keys)"
      ],
      "id": "3f9a81b7",
      "execution_count": 5,
      "outputs": [
        {
          "output_type": "stream",
          "name": "stdout",
          "text": [
            "['N2229', 'N2691', 'N2516', 'N1968', 'N1908', 'N2702', 'N1472', 'N2310', 'N2372', 'N2578']\n"
          ]
        }
      ]
    },
    {
      "cell_type": "code",
      "metadata": {
        "colab": {
          "base_uri": "https://localhost:8080/"
        },
        "id": "21b41737",
        "outputId": "189a6996-5137-4493-b635-47990f3a44a2"
      },
      "source": [
        "data.columns"
      ],
      "id": "21b41737",
      "execution_count": 6,
      "outputs": [
        {
          "output_type": "execute_result",
          "data": {
            "text/plain": [
              "Index(['key', 'value', 'date'], dtype='object')"
            ]
          },
          "metadata": {},
          "execution_count": 6
        }
      ]
    },
    {
      "cell_type": "markdown",
      "metadata": {
        "id": "45dd86cb"
      },
      "source": [
        "We need to provide some meta data such as date column, response column etc."
      ],
      "id": "45dd86cb"
    },
    {
      "cell_type": "code",
      "metadata": {
        "id": "8831518f"
      },
      "source": [
        "key_col='key'\n",
        "response_col='value'\n",
        "date_col='date'\n",
        "seasonality=12"
      ],
      "id": "8831518f",
      "execution_count": 7,
      "outputs": []
    },
    {
      "cell_type": "markdown",
      "metadata": {
        "id": "351f226e"
      },
      "source": [
        "We also provide some setting mimic M3 (see https://forecasters.org/resources/time-series-data/m3-competition/) criteria."
      ],
      "id": "351f226e"
    },
    {
      "cell_type": "code",
      "metadata": {
        "id": "7dab9ec7"
      },
      "source": [
        "backtest_args = {\n",
        "    'min_train_len': 1, # not useful; a placeholder\n",
        "    'incremental_len': 18,  # not useful; a placeholder\n",
        "    'forecast_len': 18,\n",
        "    'n_splits': 1,\n",
        "    'window_type': \"expanding\",\n",
        "}"
      ],
      "id": "7dab9ec7",
      "execution_count": 8,
      "outputs": []
    },
    {
      "cell_type": "markdown",
      "metadata": {
        "id": "40f2411e"
      },
      "source": [
        "We are using `DLT` here.  To use a multiplicative form, we create a wrapper to performm natural log transformation of response.  We also create wrapper for `prophet` and `sarima` for signature prupose.\n",
        "Note that prophet comes with its own multiplicative form."
      ],
      "id": "40f2411e"
    },
    {
      "cell_type": "code",
      "metadata": {
        "id": "ac574fc4"
      },
      "source": [
        "class DLTMAPWrapper(object):\n",
        "    def __init__(self, response_col, date_col, **kwargs):\n",
        "        kw_params = locals()['kwargs']\n",
        "        for key, value in kw_params.items():\n",
        "            setattr(self, key, value)\n",
        "        self.response_col = response_col\n",
        "        self.date_col = date_col\n",
        "        self.model = DLT(\n",
        "            response_col=response_col,\n",
        "            date_col=date_col,\n",
        "            estimator='stan-map',\n",
        "            **kwargs)\n",
        "\n",
        "    def fit(self, df):\n",
        "        df = df.copy()\n",
        "        df[[self.response_col]] = df[[self.response_col]].apply(np.log1p)\n",
        "        self.model.fit(df)\n",
        "\n",
        "    def predict(self, df):\n",
        "        df = df.copy()\n",
        "        pred_df = self.model.predict(df)\n",
        "        pred_df['prediction'] = np.clip(np.expm1(pred_df['prediction']).values, 0, None)\n",
        "        return pred_df"
      ],
      "id": "ac574fc4",
      "execution_count": 9,
      "outputs": []
    },
    {
      "cell_type": "code",
      "metadata": {
        "id": "1d0ac828"
      },
      "source": [
        "class SARIMAXWrapper(object):\n",
        "    def __init__(self, response_col, date_col, **kwargs):\n",
        "        kw_params = locals()['kwargs']\n",
        "        for key, value in kw_params.items():\n",
        "            setattr(self, key, value)\n",
        "        self.response_col = response_col\n",
        "        self.date_col = date_col\n",
        "        self.model = None\n",
        "        self.df = None\n",
        "\n",
        "    def fit(self, df):\n",
        "\n",
        "        df_copy = df.copy()\n",
        "        infer_freq = pd.infer_freq(df_copy[self.date_col])\n",
        "        df_copy = df_copy.set_index(self.date_col)\n",
        "        df_copy = df_copy.asfreq(infer_freq)\n",
        "        endog = df_copy[self.response_col]\n",
        "        sig = inspect.signature(SARIMAX)\n",
        "        all_params = dict()\n",
        "        for key in sig.parameters.keys():\n",
        "            if hasattr(self, key):\n",
        "                all_params[key] = getattr(self, key)\n",
        "        self.df = df_copy\n",
        "        self.model = SARIMAX(endog=endog, **all_params).fit(disp=False)\n",
        "\n",
        "    def predict(self, df, **kwargs):\n",
        "        df_copy = df.copy()\n",
        "        infer_freq = pd.infer_freq(df_copy[self.date_col])\n",
        "        df_copy = df_copy.set_index(self.date_col)\n",
        "        df_copy = df_copy.asfreq(infer_freq)\n",
        "\n",
        "        pred_array = np.array(self.model.predict(start=df_copy.index[0],\n",
        "                                                 end=df_copy.index[-1],\n",
        "                                                 **kwargs))\n",
        "\n",
        "        out = pd.DataFrame({\n",
        "            self.date_col: df[self.date_col],\n",
        "            'prediction': pred_array\n",
        "        })\n",
        "        return out"
      ],
      "id": "1d0ac828",
      "execution_count": 10,
      "outputs": []
    },
    {
      "cell_type": "code",
      "metadata": {
        "id": "7b03a8c3"
      },
      "source": [
        "class ProphetWrapper(object):\n",
        "    def __init__(self, response_col, date_col, **kwargs):\n",
        "        kw_params = locals()['kwargs']\n",
        "        for key, value in kw_params.items():\n",
        "            setattr(self, key, value)\n",
        "        self.response_col = response_col\n",
        "        self.date_col = date_col\n",
        "        self.model = Prophet(**kwargs)\n",
        "\n",
        "    def fit(self, df):\n",
        "        sig = inspect.signature(Prophet)\n",
        "        all_params = dict()\n",
        "        for key in sig.parameters.keys():\n",
        "            if hasattr(self, key):\n",
        "                all_params[key] = getattr(self, key)\n",
        "        object_type = type(self.model)\n",
        "        self.model = object_type(**all_params)\n",
        "\n",
        "        train_df = df.copy()\n",
        "        train_df = train_df.rename(columns={self.date_col: \"ds\", self.response_col: \"y\"})\n",
        "        self.model.fit(train_df)\n",
        "\n",
        "    def predict(self, df):\n",
        "        df = df.copy()\n",
        "        df = df.rename(columns={self.date_col: \"ds\"})\n",
        "        pred_df = self.model.predict(df)\n",
        "        pred_df = pred_df.rename(columns={'yhat': 'prediction', 'ds': self.date_col})\n",
        "        pred_df = pred_df[[self.date_col, 'prediction']]\n",
        "        return pred_df"
      ],
      "id": "7b03a8c3",
      "execution_count": 11,
      "outputs": []
    },
    {
      "cell_type": "markdown",
      "metadata": {
        "id": "d6bc1dfc"
      },
      "source": [
        "Declare model objects and run backtest. Score shows in the end."
      ],
      "id": "d6bc1dfc"
    },
    {
      "cell_type": "code",
      "metadata": {
        "id": "db00bc70"
      },
      "source": [
        "dlt = DLTMAPWrapper(\n",
        "    response_col=response_col,\n",
        "    date_col=date_col,\n",
        "    seasonality=seasonality,\n",
        "    seed=seed,\n",
        ")\n",
        "\n",
        "sarima = SARIMAXWrapper(\n",
        "    response_col=response_col,\n",
        "    date_col=date_col,\n",
        "    seasonality=seasonality,\n",
        "    seed=seed,\n",
        ")\n",
        "\n",
        "prophet = ProphetWrapper(\n",
        "    response_col=response_col,\n",
        "    date_col=date_col,\n",
        ")"
      ],
      "id": "db00bc70",
      "execution_count": 12,
      "outputs": []
    },
    {
      "cell_type": "code",
      "metadata": {
        "colab": {
          "base_uri": "https://localhost:8080/"
        },
        "id": "13f984c2",
        "outputId": "8b2ea93c-89cb-481e-e6d4-eeed94eef7bd"
      },
      "source": [
        "all_scores = []\n",
        "\n",
        "for key in tqdm.tqdm(sample_keys):\n",
        "    # dlt\n",
        "    df = data[data[key_col] == key]\n",
        "    bt = BackTester(\n",
        "        model=dlt,\n",
        "        df=df,\n",
        "        **backtest_args,\n",
        "    )\n",
        "    bt.fit_predict()\n",
        "    scores_df = bt.score(metrics=[smape])\n",
        "    scores_df[key_col] = key\n",
        "    scores_df['model'] = 'dlt'\n",
        "    all_scores.append(scores_df)\n",
        "    # sarima\n",
        "    df = data[data[key_col] == key]\n",
        "    bt = BackTester(\n",
        "        model=sarima,\n",
        "        df=df,\n",
        "        **backtest_args,\n",
        "    )\n",
        "    bt.fit_predict()\n",
        "    scores_df = bt.score(metrics=[smape])\n",
        "    scores_df[key_col] = key\n",
        "    scores_df['model'] = 'sarima'\n",
        "    all_scores.append(scores_df)\n",
        "    # prophet\n",
        "    df = data[data[key_col] == key]\n",
        "    bt = BackTester(\n",
        "        model=prophet,\n",
        "        df=df,\n",
        "        **backtest_args,\n",
        "    )\n",
        "    bt.fit_predict()\n",
        "    scores_df = bt.score(metrics=[smape])\n",
        "    scores_df[key_col] = key\n",
        "    scores_df['model'] = 'prophet'\n",
        "    all_scores.append(scores_df)\n",
        "\n",
        "\n",
        "all_scores = pd.concat(all_scores, axis=0, ignore_index=True)"
      ],
      "id": "13f984c2",
      "execution_count": 13,
      "outputs": [
        {
          "output_type": "stream",
          "name": "stderr",
          "text": [
            "\r  0%|          | 0/10 [00:00<?, ?it/s]INFO:pystan:COMPILING THE C++ CODE FOR MODEL anon_model_b0a449c7523386cce384e92a998e71c8 NOW.\n",
            "/usr/local/lib/python3.7/dist-packages/statsmodels/tsa/statespace/sarimax.py:966: UserWarning:\n",
            "\n",
            "Non-stationary starting autoregressive parameters found. Using zeros as starting parameters.\n",
            "\n",
            "INFO:numexpr.utils:NumExpr defaulting to 2 threads.\n",
            "INFO:fbprophet:Disabling weekly seasonality. Run prophet with weekly_seasonality=True to override this.\n",
            "INFO:fbprophet:Disabling daily seasonality. Run prophet with daily_seasonality=True to override this.\n",
            " 10%|█         | 1/10 [01:21<12:11, 81.26s/it]/usr/local/lib/python3.7/dist-packages/statsmodels/tsa/statespace/sarimax.py:966: UserWarning:\n",
            "\n",
            "Non-stationary starting autoregressive parameters found. Using zeros as starting parameters.\n",
            "\n",
            "INFO:fbprophet:Disabling weekly seasonality. Run prophet with weekly_seasonality=True to override this.\n",
            "INFO:fbprophet:Disabling daily seasonality. Run prophet with daily_seasonality=True to override this.\n",
            " 20%|██        | 2/10 [01:25<04:47, 35.93s/it]INFO:fbprophet:Disabling weekly seasonality. Run prophet with weekly_seasonality=True to override this.\n",
            "INFO:fbprophet:Disabling daily seasonality. Run prophet with daily_seasonality=True to override this.\n",
            " 30%|███       | 3/10 [01:29<02:29, 21.31s/it]INFO:fbprophet:Disabling weekly seasonality. Run prophet with weekly_seasonality=True to override this.\n",
            "INFO:fbprophet:Disabling daily seasonality. Run prophet with daily_seasonality=True to override this.\n",
            " 40%|████      | 4/10 [01:32<01:25, 14.31s/it]INFO:fbprophet:Disabling weekly seasonality. Run prophet with weekly_seasonality=True to override this.\n",
            "INFO:fbprophet:Disabling daily seasonality. Run prophet with daily_seasonality=True to override this.\n",
            " 50%|█████     | 5/10 [01:36<00:52, 10.48s/it]/usr/local/lib/python3.7/dist-packages/statsmodels/tsa/statespace/sarimax.py:966: UserWarning:\n",
            "\n",
            "Non-stationary starting autoregressive parameters found. Using zeros as starting parameters.\n",
            "\n",
            "INFO:fbprophet:Disabling weekly seasonality. Run prophet with weekly_seasonality=True to override this.\n",
            "INFO:fbprophet:Disabling daily seasonality. Run prophet with daily_seasonality=True to override this.\n",
            " 60%|██████    | 6/10 [01:40<00:33,  8.33s/it]INFO:fbprophet:Disabling weekly seasonality. Run prophet with weekly_seasonality=True to override this.\n",
            "INFO:fbprophet:Disabling daily seasonality. Run prophet with daily_seasonality=True to override this.\n",
            " 70%|███████   | 7/10 [01:45<00:21,  7.05s/it]/usr/local/lib/python3.7/dist-packages/statsmodels/tsa/statespace/sarimax.py:966: UserWarning:\n",
            "\n",
            "Non-stationary starting autoregressive parameters found. Using zeros as starting parameters.\n",
            "\n",
            "INFO:fbprophet:Disabling weekly seasonality. Run prophet with weekly_seasonality=True to override this.\n",
            "INFO:fbprophet:Disabling daily seasonality. Run prophet with daily_seasonality=True to override this.\n",
            " 80%|████████  | 8/10 [01:48<00:11,  5.99s/it]/usr/local/lib/python3.7/dist-packages/statsmodels/tsa/statespace/sarimax.py:966: UserWarning:\n",
            "\n",
            "Non-stationary starting autoregressive parameters found. Using zeros as starting parameters.\n",
            "\n",
            "INFO:fbprophet:Disabling weekly seasonality. Run prophet with weekly_seasonality=True to override this.\n",
            "INFO:fbprophet:Disabling daily seasonality. Run prophet with daily_seasonality=True to override this.\n",
            " 90%|█████████ | 9/10 [01:52<00:05,  5.33s/it]INFO:fbprophet:Disabling weekly seasonality. Run prophet with weekly_seasonality=True to override this.\n",
            "INFO:fbprophet:Disabling daily seasonality. Run prophet with daily_seasonality=True to override this.\n",
            "100%|██████████| 10/10 [01:56<00:00, 11.64s/it]\n"
          ]
        }
      ]
    },
    {
      "cell_type": "code",
      "metadata": {
        "colab": {
          "base_uri": "https://localhost:8080/",
          "height": 142
        },
        "id": "1ac520a5",
        "outputId": "11e7997b-c677-444a-da69-42d6b36d985a"
      },
      "source": [
        "all_scores.groupby('model')['metric_values'].apply(np.mean).reset_index()"
      ],
      "id": "1ac520a5",
      "execution_count": 14,
      "outputs": [
        {
          "output_type": "execute_result",
          "data": {
            "text/html": [
              "<div>\n",
              "<style scoped>\n",
              "    .dataframe tbody tr th:only-of-type {\n",
              "        vertical-align: middle;\n",
              "    }\n",
              "\n",
              "    .dataframe tbody tr th {\n",
              "        vertical-align: top;\n",
              "    }\n",
              "\n",
              "    .dataframe thead th {\n",
              "        text-align: right;\n",
              "    }\n",
              "</style>\n",
              "<table border=\"1\" class=\"dataframe\">\n",
              "  <thead>\n",
              "    <tr style=\"text-align: right;\">\n",
              "      <th></th>\n",
              "      <th>model</th>\n",
              "      <th>metric_values</th>\n",
              "    </tr>\n",
              "  </thead>\n",
              "  <tbody>\n",
              "    <tr>\n",
              "      <th>0</th>\n",
              "      <td>dlt</td>\n",
              "      <td>0.056396</td>\n",
              "    </tr>\n",
              "    <tr>\n",
              "      <th>1</th>\n",
              "      <td>prophet</td>\n",
              "      <td>0.111940</td>\n",
              "    </tr>\n",
              "    <tr>\n",
              "      <th>2</th>\n",
              "      <td>sarima</td>\n",
              "      <td>0.097403</td>\n",
              "    </tr>\n",
              "  </tbody>\n",
              "</table>\n",
              "</div>"
            ],
            "text/plain": [
              "     model  metric_values\n",
              "0      dlt       0.056396\n",
              "1  prophet       0.111940\n",
              "2   sarima       0.097403"
            ]
          },
          "metadata": {},
          "execution_count": 14
        }
      ]
    }
  ]
}