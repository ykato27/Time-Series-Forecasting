{
 "cells": [
  {
   "cell_type": "code",
   "execution_count": 1,
   "metadata": {},
   "outputs": [],
   "source": [
    "%load_ext lab_black"
   ]
  },
  {
   "cell_type": "code",
   "execution_count": 2,
   "metadata": {},
   "outputs": [
    {
     "name": "stderr",
     "output_type": "stream",
     "text": [
      "WARNING (theano.configdefaults): g++ not detected ! Theano will be unable to execute optimized C-implementations (for both CPU and GPU) and will default to Python implementations. Performance will be severely degraded. To remove this warning, set Theano flags cxx to an empty string.\n",
      "WARNING (theano.tensor.blas): Using NumPy C-API based implementation for BLAS functions.\n"
     ]
    }
   ],
   "source": [
    "import warnings\n",
    "\n",
    "import arviz as az\n",
    "import matplotlib.pyplot as plt\n",
    "import numpy as np\n",
    "import pymc3 as pm\n",
    "import scipy.io as sio\n",
    "import theano\n",
    "\n",
    "from scipy import stats\n",
    "from theano import tensor as tt\n",
    "\n",
    "%config InlineBackend.figure_format = 'retina'\n",
    "warnings.simplefilter(action=\"ignore\", category=(FutureWarning, UserWarning))\n",
    "RANDOM_SEED = 8927\n",
    "np.random.seed(RANDOM_SEED)"
   ]
  },
  {
   "cell_type": "code",
   "execution_count": 3,
   "metadata": {},
   "outputs": [],
   "source": [
    "az.style.use(\"arviz-darkgrid\")"
   ]
  },
  {
   "cell_type": "markdown",
   "metadata": {},
   "source": [
    "# Chapter 19 - Number concept development\n",
    "\n",
    "## 19.1 Knower-level model for Give-N\n",
    "\n",
    "\n",
    "$$ \\pi \\sim \\text{Dirichlet}\\overbrace{(1,...,1)}^{15} $$\n",
    "$$ \\nu \\sim \\text{Uniform}(1,1000)$$\n",
    "$$ z_{i} \\sim \\text{Categorical}(\\frac{1}{6},...,\\frac{1}{6})$$  \n",
    "\n",
    "$$ \\pi^{\\prime}_{ijk} \\propto\n",
    "\\begin{cases}\n",
    "\\pi_k & \\text{if $k \\gt z_i$} \\\\\n",
    "\\nu \\times \\pi_{ijk} & \\text{if $k \\leq z_i$ and $k = q^g_{ij}$} \\\\\n",
    "\\frac{1}{\\nu} \\times \\pi_{ijk} & \\text{if $k \\leq z_i$ and $k \\neq q^g_{ij}$}\n",
    "\\end{cases}  $$  \n",
    "$$ a_{ij}^g \\sim \\text{Categorical}(\\pi^{\\prime}_{ij})$$"
   ]
  },
  {
   "cell_type": "code",
   "execution_count": 4,
   "metadata": {},
   "outputs": [],
   "source": [
    "matdata = sio.loadmat(\"data/fc_given.mat\")\n",
    "\n",
    "ns = np.squeeze(np.int64(matdata[\"ns\"]))\n",
    "nz = np.squeeze(np.int64(matdata[\"nz\"]))\n",
    "gnq = np.squeeze(np.int64(matdata[\"gnq\"]))\n",
    "gn = np.squeeze(np.int64(matdata[\"gn\"]))\n",
    "ga = np.squeeze(np.int64(matdata[\"ga\"]))\n",
    "gq = np.squeeze(np.int64(matdata[\"gq\"]))"
   ]
  },
  {
   "cell_type": "code",
   "execution_count": 5,
   "metadata": {},
   "outputs": [],
   "source": [
    "ind5 = np.zeros((nz, gn, gn), dtype=int)\n",
    "for i in range(nz):\n",
    "    i1 = i + 1\n",
    "    for j in range(gn):\n",
    "        j1 = j + 1\n",
    "        for k in range(gn):\n",
    "            k1 = k + 1\n",
    "            # Will be 1 if Knower-Level is Same or Greater than Answer\n",
    "            ind1 = int(i1 - 1 >= k1)\n",
    "            # Will be 1 for the Possible Answer that Matches the Question\n",
    "            ind2 = int(k1 == j1)\n",
    "            # Will be 1 for 0-Knowers\n",
    "            ind3 = int(i1 == 1)\n",
    "            # Will be 1 for HN-Knowers\n",
    "            ind4 = int(i1 == nz)\n",
    "            ind5[i, j, k] = (\n",
    "                ind3\n",
    "                + ind4 * (2 + ind2)\n",
    "                + (1 - ind4) * (1 - ind3) * (ind1 * ind2 + ind1 + 1)\n",
    "            )"
   ]
  },
  {
   "cell_type": "code",
   "execution_count": 6,
   "metadata": {},
   "outputs": [],
   "source": [
    "ind5r = ind5 - 1\n",
    "ga_obs = np.asarray(ga.flatten() - 1, dtype=int)\n",
    "gq_obs = np.asarray(gq.flatten() - 1, dtype=int)\n",
    "valid_ind = np.where(gq_obs != -1)[0]"
   ]
  },
  {
   "cell_type": "code",
   "execution_count": 7,
   "metadata": {},
   "outputs": [
    {
     "name": "stderr",
     "output_type": "stream",
     "text": [
      "/opt/anaconda3/lib/python3.8/site-packages/theano/tensor/elemwise.py:826: RuntimeWarning: invalid value encountered in true_divide\n",
      "  variables = ufunc(*ufunc_args, **ufunc_kwargs)\n",
      "Sequential sampling (2 chains in 1 job)\n",
      "CompoundStep\n",
      ">NUTS: [nu, pi]\n",
      ">CategoricalGibbsMetropolis: [zi]\n"
     ]
    },
    {
     "data": {
      "text/html": [
       "\n",
       "    <div>\n",
       "        <style>\n",
       "            /* Turns off some styling */\n",
       "            progress {\n",
       "                /* gets rid of default border in Firefox and Opera. */\n",
       "                border: none;\n",
       "                /* Needs to be in here for Safari polyfill so background images work as expected. */\n",
       "                background-size: auto;\n",
       "            }\n",
       "            .progress-bar-interrupted, .progress-bar-interrupted::-webkit-progress-bar {\n",
       "                background: #F44336;\n",
       "            }\n",
       "        </style>\n",
       "      <progress value='19' class='' max='2000' style='width:300px; height:20px; vertical-align: middle;'></progress>\n",
       "      0.95% [19/2000 29:29<51:15:03 Sampling chain 0, 0 divergences]\n",
       "    </div>\n",
       "    "
      ],
      "text/plain": [
       "<IPython.core.display.HTML object>"
      ]
     },
     "metadata": {},
     "output_type": "display_data"
    },
    {
     "name": "stderr",
     "output_type": "stream",
     "text": [
      "/opt/anaconda3/lib/python3.8/site-packages/numpy/core/fromnumeric.py:3419: RuntimeWarning: Mean of empty slice.\n",
      "  return _methods._mean(a, axis=axis, dtype=dtype,\n",
      "/opt/anaconda3/lib/python3.8/site-packages/numpy/core/_methods.py:188: RuntimeWarning: invalid value encountered in double_scalars\n",
      "  ret = ret.dtype.type(ret / rcount)\n",
      "Sampling 1 chain for 19 tune and 0 draw iterations (19 + 0 draws total) took 1794 seconds.\n",
      "No posterior samples. Unable to run convergence checks\n"
     ]
    },
    {
     "ename": "ValueError",
     "evalue": "Can not extract posterior from <MultiTrace: 1 chains, 0 iterations, 5 variables>! See /opt/anaconda3/lib/python3.8/site-packages/arviz/data/converters.py for other conversion utilities.",
     "output_type": "error",
     "traceback": [
      "\u001b[0;31m---------------------------------------------------------------------------\u001b[0m",
      "\u001b[0;31mValueError\u001b[0m                                Traceback (most recent call last)",
      "\u001b[0;32m<ipython-input-7-b16c5295a49b>\u001b[0m in \u001b[0;36m<module>\u001b[0;34m\u001b[0m\n\u001b[1;32m     17\u001b[0m     \u001b[0mtrace1\u001b[0m \u001b[0;34m=\u001b[0m \u001b[0mpm\u001b[0m\u001b[0;34m.\u001b[0m\u001b[0msample\u001b[0m\u001b[0;34m(\u001b[0m\u001b[0;34m)\u001b[0m\u001b[0;34m\u001b[0m\u001b[0;34m\u001b[0m\u001b[0m\n\u001b[1;32m     18\u001b[0m \u001b[0;34m\u001b[0m\u001b[0m\n\u001b[0;32m---> 19\u001b[0;31m \u001b[0maz\u001b[0m\u001b[0;34m.\u001b[0m\u001b[0mplot_trace\u001b[0m\u001b[0;34m(\u001b[0m\u001b[0mtrace1\u001b[0m\u001b[0;34m,\u001b[0m \u001b[0mvar_names\u001b[0m\u001b[0;34m=\u001b[0m\u001b[0;34m[\u001b[0m\u001b[0;34m\"pi\"\u001b[0m\u001b[0;34m,\u001b[0m \u001b[0;34m\"nu\"\u001b[0m\u001b[0;34m,\u001b[0m \u001b[0;34m\"zi\"\u001b[0m\u001b[0;34m]\u001b[0m\u001b[0;34m,\u001b[0m \u001b[0mcompact\u001b[0m\u001b[0;34m=\u001b[0m\u001b[0;32mTrue\u001b[0m\u001b[0;34m)\u001b[0m\u001b[0;34m;\u001b[0m\u001b[0;34m\u001b[0m\u001b[0;34m\u001b[0m\u001b[0m\n\u001b[0m",
      "\u001b[0;32m/opt/anaconda3/lib/python3.8/site-packages/arviz/plots/traceplot.py\u001b[0m in \u001b[0;36mplot_trace\u001b[0;34m(data, var_names, filter_vars, transform, coords, divergences, kind, figsize, rug, lines, circ_var_names, circ_var_units, compact, compact_prop, combined, chain_prop, legend, plot_kwargs, fill_kwargs, rug_kwargs, hist_kwargs, trace_kwargs, rank_kwargs, axes, backend, backend_config, backend_kwargs, show)\u001b[0m\n\u001b[1;32m    177\u001b[0m         \u001b[0mdivergence_data\u001b[0m \u001b[0;34m=\u001b[0m \u001b[0;32mFalse\u001b[0m\u001b[0;34m\u001b[0m\u001b[0;34m\u001b[0m\u001b[0m\n\u001b[1;32m    178\u001b[0m \u001b[0;34m\u001b[0m\u001b[0m\n\u001b[0;32m--> 179\u001b[0;31m     \u001b[0mcoords_data\u001b[0m \u001b[0;34m=\u001b[0m \u001b[0mget_coords\u001b[0m\u001b[0;34m(\u001b[0m\u001b[0mconvert_to_dataset\u001b[0m\u001b[0;34m(\u001b[0m\u001b[0mdata\u001b[0m\u001b[0;34m,\u001b[0m \u001b[0mgroup\u001b[0m\u001b[0;34m=\u001b[0m\u001b[0;34m\"posterior\"\u001b[0m\u001b[0;34m)\u001b[0m\u001b[0;34m,\u001b[0m \u001b[0mcoords\u001b[0m\u001b[0;34m)\u001b[0m\u001b[0;34m\u001b[0m\u001b[0;34m\u001b[0m\u001b[0m\n\u001b[0m\u001b[1;32m    180\u001b[0m \u001b[0;34m\u001b[0m\u001b[0m\n\u001b[1;32m    181\u001b[0m     \u001b[0;32mif\u001b[0m \u001b[0mtransform\u001b[0m \u001b[0;32mis\u001b[0m \u001b[0;32mnot\u001b[0m \u001b[0;32mNone\u001b[0m\u001b[0;34m:\u001b[0m\u001b[0;34m\u001b[0m\u001b[0;34m\u001b[0m\u001b[0m\n",
      "\u001b[0;32m/opt/anaconda3/lib/python3.8/site-packages/arviz/data/converters.py\u001b[0m in \u001b[0;36mconvert_to_dataset\u001b[0;34m(obj, group, coords, dims)\u001b[0m\n\u001b[1;32m    180\u001b[0m     \u001b[0mdataset\u001b[0m \u001b[0;34m=\u001b[0m \u001b[0mgetattr\u001b[0m\u001b[0;34m(\u001b[0m\u001b[0minference_data\u001b[0m\u001b[0;34m,\u001b[0m \u001b[0mgroup\u001b[0m\u001b[0;34m,\u001b[0m \u001b[0;32mNone\u001b[0m\u001b[0;34m)\u001b[0m\u001b[0;34m\u001b[0m\u001b[0;34m\u001b[0m\u001b[0m\n\u001b[1;32m    181\u001b[0m     \u001b[0;32mif\u001b[0m \u001b[0mdataset\u001b[0m \u001b[0;32mis\u001b[0m \u001b[0;32mNone\u001b[0m\u001b[0;34m:\u001b[0m\u001b[0;34m\u001b[0m\u001b[0;34m\u001b[0m\u001b[0m\n\u001b[0;32m--> 182\u001b[0;31m         raise ValueError(\n\u001b[0m\u001b[1;32m    183\u001b[0m             \u001b[0;34m\"Can not extract {group} from {obj}! See {filename} for other \"\u001b[0m\u001b[0;34m\u001b[0m\u001b[0;34m\u001b[0m\u001b[0m\n\u001b[1;32m    184\u001b[0m             \u001b[0;34m\"conversion utilities.\"\u001b[0m\u001b[0;34m.\u001b[0m\u001b[0mformat\u001b[0m\u001b[0;34m(\u001b[0m\u001b[0mgroup\u001b[0m\u001b[0;34m=\u001b[0m\u001b[0mgroup\u001b[0m\u001b[0;34m,\u001b[0m \u001b[0mobj\u001b[0m\u001b[0;34m=\u001b[0m\u001b[0mobj\u001b[0m\u001b[0;34m,\u001b[0m \u001b[0mfilename\u001b[0m\u001b[0;34m=\u001b[0m\u001b[0m__file__\u001b[0m\u001b[0;34m)\u001b[0m\u001b[0;34m\u001b[0m\u001b[0;34m\u001b[0m\u001b[0m\n",
      "\u001b[0;31mValueError\u001b[0m: Can not extract posterior from <MultiTrace: 1 chains, 0 iterations, 5 variables>! See /opt/anaconda3/lib/python3.8/site-packages/arviz/data/converters.py for other conversion utilities."
     ]
    }
   ],
   "source": [
    "with pm.Model() as model1:\n",
    "    pi = pm.Dirichlet(\"pi\", a=np.ones(gn), shape=gn)\n",
    "\n",
    "    nu = pm.Uniform(\"nu\", lower=1, upper=1000)\n",
    "    nu_vec = tt.stack([1.0, 1.0 / nu, nu])\n",
    "\n",
    "    piprime = tt.mul(nu_vec[ind5r], pi)\n",
    "    npiprime = piprime / tt.sum(piprime, axis=-1, keepdims=True)\n",
    "\n",
    "    zi = pm.Categorical(\"zi\", p=np.ones(nz) / nz, shape=ns)\n",
    "    zi_vec = tt.repeat(zi, gq.shape[1])\n",
    "\n",
    "    pi_ij = npiprime[zi_vec[valid_ind], gq_obs[valid_ind], :]\n",
    "\n",
    "    aij = pm.Categorical(\"aij\", p=pi_ij, observed=ga_obs[valid_ind])\n",
    "\n",
    "    trace1 = pm.sample()\n",
    "\n",
    "az.plot_trace(trace1, var_names=[\"pi\", \"nu\", \"zi\"], compact=True);"
   ]
  },
  {
   "cell_type": "code",
   "execution_count": null,
   "metadata": {},
   "outputs": [],
   "source": [
    "az.plot_energy(trace1);"
   ]
  },
  {
   "cell_type": "code",
   "execution_count": null,
   "metadata": {},
   "outputs": [],
   "source": [
    "pitr = trace1[\"pi\"]\n",
    "\n",
    "fig = plt.figure(figsize=(18, 6))\n",
    "plt.bar(np.arange(15) + 1, np.mean(pitr, axis=0), align=\"center\")\n",
    "plt.xlabel(\"Number\")\n",
    "plt.ylabel(\"Probability\")\n",
    "plt.xticks(np.arange(16))\n",
    "plt.xlim([0, 16]);"
   ]
  },
  {
   "cell_type": "code",
   "execution_count": null,
   "metadata": {},
   "outputs": [],
   "source": [
    "fig, axes = plt.subplots(4, 5, figsize=(20, 12))\n",
    "gs = axes.flatten()\n",
    "zitr = trace1[\"zi\"]\n",
    "\n",
    "for i in range(ns):\n",
    "    ax = gs[i]\n",
    "    bartmp = np.unique(zitr[:, i], return_counts=True)\n",
    "    ax.bar(bartmp[0], bartmp[1])\n",
    "    ax.set_title(\"Child %s\" % (i + 1))\n",
    "    ax.set_xlim([-0.9, 5.9])\n",
    "    ax.set_xticks(np.arange(6))\n",
    "    ax.set_xticklabels([\"P\", \"1\", \"2\", \"3\", \"4\", \"C\"])\n",
    "\n",
    "plt.subplot(gs[15])\n",
    "plt.xlabel(\"Knower Level\")\n",
    "plt.ylabel(\"Posterior Mass\")\n",
    "plt.tight_layout();"
   ]
  },
  {
   "cell_type": "code",
   "execution_count": null,
   "metadata": {},
   "outputs": [],
   "source": [
    "# Generate posterior prediction for each subject\n",
    "gqpred = np.tile(np.arange(gn)[np.newaxis, :], (ns, 1)).flatten()\n",
    "\n",
    "# Generate posterior prediction for each knower level\n",
    "zpred = np.tile(np.arange(gn)[np.newaxis, :], (nz, 1)).flatten()\n",
    "z_vect = np.tile(np.arange(nz)[:, np.newaxis], (1, gn)).flatten()\n",
    "\n",
    "nutr = trace1[\"nu\"]\n",
    "tracelen = nutr.shape[0]\n",
    "nsample = 500\n",
    "predga = np.zeros((nsample, len(gqpred)))\n",
    "predz = np.zeros((nsample, len(zpred)))\n",
    "randlist = np.random.choice(tracelen, nsample)"
   ]
  },
  {
   "cell_type": "code",
   "execution_count": null,
   "metadata": {},
   "outputs": [],
   "source": [
    "def caterandom(p):\n",
    "    return np.asarray([np.random.choice(len(p1), p=p1) for p1 in p])\n",
    "\n",
    "\n",
    "for i, idx in enumerate(randlist):\n",
    "    pi1, nu1, zi1 = pitr[idx], nutr[idx], zitr[idx]\n",
    "\n",
    "    nu_vec1 = np.stack([1.0, 1.0 / nu1, nu1])\n",
    "    piprime1 = np.multiply(nu_vec1[ind5r], pi1)\n",
    "    npiprime1 = piprime1 / np.sum(piprime1, axis=-1, keepdims=True)\n",
    "\n",
    "    zi_vec2 = np.repeat(zi1, gn)\n",
    "    pi_ij_pred = npiprime1[zi_vec2, gqpred, :]\n",
    "    predga[i, :] = caterandom(pi_ij_pred)\n",
    "\n",
    "    zi_ij_pred = npiprime1[z_vect, zpred, :]\n",
    "    predz[i, :] = caterandom(zi_ij_pred)"
   ]
  },
  {
   "cell_type": "code",
   "execution_count": null,
   "metadata": {},
   "outputs": [],
   "source": [
    "predga = np.reshape(predga, newshape=(nsample, ns, gn)).astype(int)\n",
    "\n",
    "fig, axes = plt.subplots(2, 3, figsize=(20, 12))\n",
    "gs = axes.flatten()\n",
    "subjlist = np.asarray([15, 2, 4, 3, 10, 20]) - 1\n",
    "\n",
    "for i, isbj in enumerate(subjlist):\n",
    "    mattmp = np.squeeze(predga[:, isbj, :])\n",
    "    obs = ga[isbj] - 1\n",
    "    qus = gq[isbj] - 1\n",
    "    msk = qus != -1\n",
    "    img_ = np.zeros((gn, gn))\n",
    "    for j in range(gn):\n",
    "        bartmp = np.unique(mattmp[:, j], return_counts=True)\n",
    "        img_[j, bartmp[0]] = bartmp[1]\n",
    "    ax = gs[i]\n",
    "    ax.imshow(img_.T, cmap=\"viridis\", origin=\"lower\")\n",
    "    ax.plot(qus[msk], obs[msk], \"o\", ms=15, color=\"r\", alpha=0.5)\n",
    "    ax.grid(\"off\")\n",
    "    ax.set_title(\"Child %s\" % (isbj + 1))\n",
    "\n",
    "plt.subplot(gs[3])\n",
    "plt.xlabel(\"Question\")\n",
    "plt.ylabel(\"Answer\")\n",
    "plt.tight_layout();"
   ]
  },
  {
   "cell_type": "code",
   "execution_count": null,
   "metadata": {},
   "outputs": [],
   "source": [
    "predz = np.reshape(predz, newshape=(nsample, nz, gn)).astype(int)\n",
    "\n",
    "fig, axes = plt.subplots(2, 3, figsize=(20, 12))\n",
    "gs = axes.flatten()\n",
    "knowertype = (\n",
    "    \"PN-Knower\",\n",
    "    \"One-Knower\",\n",
    "    \"Two-Knower\",\n",
    "    \"Three-Knower\",\n",
    "    \"Four-Knower\",\n",
    "    \"CP-Knower\",\n",
    ")\n",
    "\n",
    "for i in range(nz):\n",
    "    mattmp = np.squeeze(predz[:, i, :])\n",
    "    img_ = np.zeros((gn, gn))\n",
    "    for j in range(gn):\n",
    "        bartmp = np.unique(mattmp[:, j], return_counts=True)\n",
    "        img_[j, bartmp[0]] = bartmp[1]\n",
    "    ax = gs[i]\n",
    "    ax.imshow(img_.T, cmap=\"viridis\", origin=\"lower\")\n",
    "    ax.grid(\"off\")\n",
    "    ax.set_title(knowertype[i])\n",
    "\n",
    "plt.subplot(gs[3])\n",
    "plt.xlabel(\"Question\")\n",
    "plt.ylabel(\"Answer\")\n",
    "plt.tight_layout();"
   ]
  },
  {
   "cell_type": "markdown",
   "metadata": {},
   "source": [
    "## 19.2 Knower-level model for Fast-Cards\n",
    "\n",
    "\n",
    "$$ \\pi \\sim \\text{Dirichlet}\\overbrace{(1,...,1)}^{50} $$\n",
    "$$ \\nu \\sim \\text{Uniform}(1,1000)$$\n",
    "$$ z_{i} \\sim \\text{Categorical}(\\frac{1}{6},...,\\frac{1}{6})$$  \n",
    "\n",
    "$$ \\pi^{\\prime}_{ijk} \\propto\n",
    "\\begin{cases}\n",
    "\\pi_k & \\text{if $k \\gt z_i$} \\\\\n",
    "\\nu \\times \\pi_{ijk} & \\text{if $k \\leq z_i$ and $k = q^f_{ij}$} \\\\\n",
    "\\frac{1}{\\nu} \\times \\pi_{ijk} & \\text{if $k \\leq z_i$ and $k \\neq q^f_{ij}$}\n",
    "\\end{cases}  $$  \n",
    "$$ a_{ij}^f \\sim \\text{Categorical}(\\pi^{\\prime}_{ij})$$"
   ]
  },
  {
   "cell_type": "code",
   "execution_count": null,
   "metadata": {},
   "outputs": [],
   "source": [
    "fnq = np.squeeze(np.int64(matdata[\"fnq\"]))\n",
    "fa = np.squeeze(np.int64(matdata[\"fa\"]))\n",
    "fq = np.squeeze(np.int64(matdata[\"fq\"]))\n",
    "fn = 50"
   ]
  },
  {
   "cell_type": "code",
   "execution_count": null,
   "metadata": {},
   "outputs": [],
   "source": [
    "find5 = np.zeros((nz, gn, fn), dtype=int)\n",
    "for i in range(nz):\n",
    "    i1 = i + 1\n",
    "    for j in range(gn):\n",
    "        j1 = j + 1\n",
    "        for k in range(fn):\n",
    "            k1 = k + 1\n",
    "            # Will be 1 if Knower-Level is Same or Greater than Answer\n",
    "            find1 = int(i1 - 1 >= k1)\n",
    "            # Will be 1 for the Possible Answer that Matches the Question\n",
    "            find2 = int(k1 == j1)\n",
    "            # Will be 1 for 0-Knowers\n",
    "            find3 = int(i1 == 1)\n",
    "            # Will be 1 for HN-Knowers\n",
    "            find4 = int(i1 == nz)\n",
    "            find5[i, j, k] = (\n",
    "                find3\n",
    "                + find4 * (2 + find2)\n",
    "                + (1 - find4) * (1 - find3) * (find1 * find2 + find1 + 1)\n",
    "            )"
   ]
  },
  {
   "cell_type": "code",
   "execution_count": null,
   "metadata": {},
   "outputs": [],
   "source": [
    "find5r = find5 - 1\n",
    "fa_obs = np.asarray(fa.flatten() - 1, dtype=int)\n",
    "fq_obs = np.asarray(fq.flatten() - 1, dtype=int)\n",
    "valid_ind2 = np.where(fq_obs != -1)[0]"
   ]
  },
  {
   "cell_type": "code",
   "execution_count": null,
   "metadata": {},
   "outputs": [],
   "source": [
    "with pm.Model() as model2:\n",
    "    pi = pm.Dirichlet(\"pi\", a=np.ones(fn), shape=fn)\n",
    "\n",
    "    nu = pm.Uniform(\"nu\", lower=1, upper=1000)\n",
    "    nu_vec = tt.stack([1.0, 1.0 / nu, nu])\n",
    "\n",
    "    piprime = tt.mul(nu_vec[find5r], pi)\n",
    "    npiprime = piprime / tt.sum(piprime, axis=-1, keepdims=True)\n",
    "\n",
    "    zi = pm.Categorical(\"zi\", p=np.ones(nz) / nz, shape=ns)\n",
    "    zi_vec = tt.repeat(zi, fq.shape[1])\n",
    "\n",
    "    pi_ij = npiprime[zi_vec[valid_ind2], fq_obs[valid_ind2], :]\n",
    "\n",
    "    aij = pm.Categorical(\"aij\", p=pi_ij, observed=fa_obs[valid_ind2])\n",
    "\n",
    "    trace2 = pm.sample()\n",
    "\n",
    "az.plot_trace(trace2, var_names=[\"pi\", \"nu\", \"zi\"], compact=True);"
   ]
  },
  {
   "cell_type": "code",
   "execution_count": null,
   "metadata": {},
   "outputs": [],
   "source": [
    "az.plot_energy(trace2);"
   ]
  },
  {
   "cell_type": "code",
   "execution_count": null,
   "metadata": {},
   "outputs": [],
   "source": [
    "pitr = trace2[\"pi\"]\n",
    "\n",
    "fig = plt.figure(figsize=(18, 6))\n",
    "plt.bar(np.arange(50) + 1, np.mean(pitr, axis=0), align=\"center\")\n",
    "plt.xlabel(\"Number\")\n",
    "plt.ylabel(\"Probability\")\n",
    "plt.xticks(np.arange(51))\n",
    "plt.xlim([0, 51]);"
   ]
  },
  {
   "cell_type": "code",
   "execution_count": null,
   "metadata": {},
   "outputs": [],
   "source": [
    "fig, axes = plt.subplots(4, 5, figsize=(20, 12))\n",
    "gs = axes.flatten()\n",
    "zitr = trace2[\"zi\"]\n",
    "\n",
    "for i in range(ns):\n",
    "    ax = gs[i]\n",
    "    bartmp = np.unique(zitr[:, i], return_counts=True)\n",
    "    ax.bar(bartmp[0], bartmp[1])\n",
    "    ax.set_title(\"Child %s\" % (i + 1))\n",
    "    ax.set_xlim([-0.9, 5.9])\n",
    "    ax.set_xticks(np.arange(6))\n",
    "    ax.set_xticklabels([\"P\", \"1\", \"2\", \"3\", \"4\", \"C\"])\n",
    "\n",
    "plt.subplot(gs[15])\n",
    "plt.xlabel(\"Knower Level\")\n",
    "plt.ylabel(\"Posterior Mass\")\n",
    "plt.tight_layout();"
   ]
  },
  {
   "cell_type": "code",
   "execution_count": null,
   "metadata": {},
   "outputs": [],
   "source": [
    "# Generate posterior prediction for each knower level\n",
    "zpred = np.tile(np.arange(gn)[np.newaxis, :], (nz, 1)).flatten()\n",
    "z_vect = np.tile(np.arange(nz)[:, np.newaxis], (1, gn)).flatten()\n",
    "\n",
    "nutr = trace2[\"nu\"]\n",
    "pitr = trace2[\"pi\"]\n",
    "tracelen = nutr.shape[0]\n",
    "nsample = 500\n",
    "predz = np.zeros((nsample, len(zpred)))\n",
    "randlist = np.random.choice(tracelen, nsample)"
   ]
  },
  {
   "cell_type": "code",
   "execution_count": null,
   "metadata": {},
   "outputs": [],
   "source": [
    "def caterandom(p):\n",
    "    return np.asarray([np.random.choice(len(p1), p=p1) for p1 in p])\n",
    "\n",
    "\n",
    "for i, idx in enumerate(randlist):\n",
    "    pi1, nu1, zi1 = pitr[idx], nutr[idx], zitr[idx]\n",
    "\n",
    "    nu_vec1 = np.stack([1.0, 1.0 / nu1, nu1])\n",
    "    piprime1 = np.multiply(nu_vec1[find5r], pi1)\n",
    "    npiprime1 = piprime1 / np.sum(piprime1, axis=-1, keepdims=True)\n",
    "\n",
    "    zi_ij_pred = npiprime1[z_vect, zpred, :]\n",
    "    predz[i, :] = caterandom(zi_ij_pred)"
   ]
  },
  {
   "cell_type": "code",
   "execution_count": null,
   "metadata": {},
   "outputs": [],
   "source": [
    "predz = np.reshape(predz, newshape=(nsample, nz, gn)).astype(int)\n",
    "\n",
    "fig, axes = plt.subplots(2, 3, figsize=(20, 12))\n",
    "gs = axes.flatten()\n",
    "knowertype = (\n",
    "    \"PN-Knower\",\n",
    "    \"One-Knower\",\n",
    "    \"Two-Knower\",\n",
    "    \"Three-Knower\",\n",
    "    \"Four-Knower\",\n",
    "    \"CP-Knower\",\n",
    ")\n",
    "\n",
    "for i in range(nz):\n",
    "    mattmp = np.squeeze(predz[:, i, :])\n",
    "    img_ = np.zeros((fn, fn))\n",
    "    for j in range(gn):\n",
    "        bartmp = np.unique(mattmp[:, j], return_counts=True)\n",
    "        img_[bartmp[0], j] = bartmp[1]\n",
    "    ax = gs[i]\n",
    "    ax.imshow(img_[:20, :20], cmap=\"viridis\", origin=\"lower\")\n",
    "    ax.grid(\"off\")\n",
    "    ax.set_title(knowertype[i])\n",
    "\n",
    "plt.subplot(gs[3])\n",
    "plt.xlabel(\"Question\")\n",
    "plt.ylabel(\"Answer\")\n",
    "plt.tight_layout();"
   ]
  },
  {
   "cell_type": "markdown",
   "metadata": {},
   "source": [
    "## 19.3 Knower-level model for Give-N and Fast-Cards\n",
    "\n",
    "\n",
    "$$ \\pi^{g} \\sim \\text{Dirichlet}\\overbrace{(1,...,1)}^{15} $$\n",
    "$$ \\pi^{f} \\sim \\text{Dirichlet}\\overbrace{(1,...,1)}^{50} $$\n",
    "$$ \\nu^{g},\\nu^{f} \\sim \\text{Uniform}(1,1000)$$\n",
    "$$ z_{i} \\sim \\text{Categorical}(\\frac{1}{6},...,\\frac{1}{6})$$  \n",
    "\n",
    "$$ \\pi^{\\prime g}_{ijk} \\propto\n",
    "\\begin{cases}\n",
    "\\pi_k^g & \\text{if $k \\gt z_i$} \\\\\n",
    "\\nu^g \\times \\pi_{ijk}^g & \\text{if $k \\leq z_i$ and $k = q^f_{ij}$} \\\\\n",
    "\\frac{1}{\\nu^g} \\times \\pi_{ijk}^g & \\text{if $k \\leq z_i$ and $k \\neq q^f_{ij}$}\n",
    "\\end{cases}  $$  \n",
    "\n",
    "$$ \\pi^{\\prime f}_{ijk} \\propto\n",
    "\\begin{cases}\n",
    "\\pi_k^f & \\text{if $k \\gt z_i$} \\\\\n",
    "\\nu^f \\times \\pi_{ijk}^f & \\text{if $k \\leq z_i$ and $k = q^f_{ij}$} \\\\\n",
    "\\frac{1}{\\nu^f} \\times \\pi_{ijk}^f & \\text{if $k \\leq z_i$ and $k \\neq q^f_{ij}$}\n",
    "\\end{cases}  $$  \n",
    "\n",
    "$$ a_{ij}^g \\sim \\text{Categorical}(\\pi^{\\prime g}_{ij})$$\n",
    "$$ a_{ij}^f \\sim \\text{Categorical}(\\pi^{\\prime f}_{ij})$$"
   ]
  },
  {
   "cell_type": "code",
   "execution_count": null,
   "metadata": {},
   "outputs": [],
   "source": [
    "ind5r = ind5 - 1\n",
    "ga_obs = np.asarray(ga.flatten() - 1, dtype=int)\n",
    "gq_obs = np.asarray(gq.flatten() - 1, dtype=int)\n",
    "valid_ind1 = np.where(gq_obs != -1)[0]\n",
    "\n",
    "find5r = find5 - 1\n",
    "fa_obs = np.asarray(fa.flatten() - 1, dtype=int)\n",
    "fq_obs = np.asarray(fq.flatten() - 1, dtype=int)\n",
    "valid_ind2 = np.where(fq_obs != -1)[0]"
   ]
  },
  {
   "cell_type": "code",
   "execution_count": null,
   "metadata": {},
   "outputs": [],
   "source": [
    "with pm.Model() as model3:\n",
    "    # Knower level (same for each subject)\n",
    "    zi = pm.Categorical(\"zi\", p=np.ones(nz) / nz, shape=ns)\n",
    "\n",
    "    # Give-N\n",
    "    pi_g = pm.Dirichlet(\"pi_g\", a=np.ones(gn), shape=gn)\n",
    "    nug = pm.Uniform(\"nu_g\", lower=1, upper=1000)\n",
    "    nug_vec = tt.stack([1.0, 1.0 / nug, nug])\n",
    "\n",
    "    piprimeg = tt.mul(nug_vec[ind5r], pi_g)\n",
    "    npiprimeg = piprimeg / tt.sum(piprimeg, axis=-1, keepdims=True)\n",
    "    zig_vec = tt.repeat(zi, gq.shape[1])\n",
    "    pig_ij = npiprimeg[zig_vec[valid_ind1], gq_obs[valid_ind1], :]\n",
    "\n",
    "    agij = pm.Categorical(\"ag_ij\", p=pig_ij, observed=ga_obs[valid_ind1])\n",
    "\n",
    "    # Fast-Cards\n",
    "    pi_f = pm.Dirichlet(\"pi_f\", a=np.ones(fn), shape=fn)\n",
    "    nuf = pm.Uniform(\"nu_f\", lower=1, upper=1000)\n",
    "    nuf_vec = tt.stack([1.0, 1.0 / nuf, nuf])\n",
    "\n",
    "    piprimef = tt.mul(nuf_vec[find5r], pi_f)\n",
    "    npiprimef = piprimef / tt.sum(piprimef, axis=-1, keepdims=True)\n",
    "    zif_vec = tt.repeat(zi, fq.shape[1])\n",
    "\n",
    "    pif_ij = npiprimef[zif_vec[valid_ind2], fq_obs[valid_ind2], :]\n",
    "\n",
    "    afij = pm.Categorical(\"af_ij\", p=pif_ij, observed=fa_obs[valid_ind2])\n",
    "\n",
    "    trace3 = pm.sample()\n",
    "\n",
    "az.plot_trace(trace3, var_names=[\"zi\", \"pi_g\", \"nu_g\", \"pi_f\", \"nu_f\"], compact=True);"
   ]
  },
  {
   "cell_type": "code",
   "execution_count": null,
   "metadata": {},
   "outputs": [],
   "source": [
    "az.plot_energy(trace3);"
   ]
  },
  {
   "cell_type": "code",
   "execution_count": null,
   "metadata": {},
   "outputs": [],
   "source": [
    "fig, axes = plt.subplots(4, 5, figsize=(20, 12))\n",
    "gs = axes.flatten()\n",
    "zitr = trace3[\"zi\"]\n",
    "\n",
    "for i in range(ns):\n",
    "    ax = gs[i]\n",
    "    bartmp = np.unique(zitr[:, i], return_counts=True)\n",
    "    ax.bar(bartmp[0], bartmp[1])\n",
    "    ax.set_title(\"Child %s\" % (i + 1))\n",
    "    ax.set_xlim([-0.9, 5.9])\n",
    "    ax.set_xticks(np.arange(6))\n",
    "    ax.set_xticklabels([\"P\", \"1\", \"2\", \"3\", \"4\", \"C\"])\n",
    "\n",
    "plt.subplot(gs[15])\n",
    "plt.xlabel(\"Knower Level\")\n",
    "plt.ylabel(\"Posterior Mass\")\n",
    "plt.tight_layout();"
   ]
  },
  {
   "cell_type": "code",
   "execution_count": null,
   "metadata": {},
   "outputs": [],
   "source": [
    "%load_ext watermark\n",
    "%watermark -n -u -v -iv -w"
   ]
  }
 ],
 "metadata": {
  "kernelspec": {
   "display_name": "Python 3",
   "language": "python",
   "name": "python3"
  },
  "language_info": {
   "codemirror_mode": {
    "name": "ipython",
    "version": 3
   },
   "file_extension": ".py",
   "mimetype": "text/x-python",
   "name": "python",
   "nbconvert_exporter": "python",
   "pygments_lexer": "ipython3",
   "version": "3.8.8"
  }
 },
 "nbformat": 4,
 "nbformat_minor": 4
}
