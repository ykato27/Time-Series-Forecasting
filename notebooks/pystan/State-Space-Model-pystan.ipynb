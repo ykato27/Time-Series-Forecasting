{
 "cells": [
  {
   "cell_type": "markdown",
   "metadata": {},
   "source": [
    "## 状態空間モデルで時系列予測を行う（pystan）"
   ]
  },
  {
   "cell_type": "code",
   "execution_count": null,
   "metadata": {},
   "outputs": [],
   "source": [
    "%load_ext lab_black"
   ]
  },
  {
   "cell_type": "code",
   "execution_count": null,
   "metadata": {},
   "outputs": [],
   "source": [
    "# 必要なライブラリーのインポート\n",
    "import numpy as np\n",
    "import pandas as pd\n",
    "from numpy.random import *\n",
    "from scipy import stats\n",
    "import pystan\n",
    "import matplotlib.pyplot as plt\n",
    "import seaborn as sns\n",
    "\n",
    "%matplotlib inline\n",
    "\n",
    "# グラフを横長にする\n",
    "from matplotlib import rcParams\n",
    "\n",
    "rcParams[\"figure.figsize\"] = 10, 6\n",
    "sns.set()\n",
    "\n",
    "import warnings\n",
    "\n",
    "warnings.filterwarnings(\"ignore\")"
   ]
  },
  {
   "cell_type": "code",
   "execution_count": null,
   "metadata": {
    "colab": {
     "base_uri": "https://localhost:8080/",
     "height": 204
    },
    "id": "_i5EaZnpB_a4",
    "outputId": "bbb96464-0184-4056-ad8a-c0b5b821c490"
   },
   "outputs": [],
   "source": [
    "# データの読み込み\n",
    "# https://stat.ethz.ch/R-manual/R-devel/library/datasets/html/AirPassengers.html\n",
    "df = pd.read_csv(\"../../data/AirPassengers.csv\")\n",
    "\n",
    "# float型に変換\n",
    "# df['#Passengers'] = df['#Passengers'].astype('float64')\n",
    "df = df.rename(columns={\"#Passengers\": \"Passengers\"})\n",
    "\n",
    "# datetime型にしてインデックスにする\n",
    "# df.Month = pd.to_datetime(df.Month)\n",
    "# df = df.set_index(\"Month\")\n",
    "\n",
    "# データの中身を確認\n",
    "df.head()"
   ]
  },
  {
   "cell_type": "code",
   "execution_count": null,
   "metadata": {
    "id": "5v6ebA0JCUVR"
   },
   "outputs": [],
   "source": [
    "local_level = \"\"\"\n",
    "data {\n",
    "    int<lower=0> T; // number of learning points\n",
    "    int<lower=0> M; // number of predict points\n",
    "    real Y[T]; // observations\n",
    "}\n",
    "\n",
    "parameters {\n",
    "    real mu[T]; // trend\n",
    "    real<lower=0> s_y; // sd of observations\n",
    "    real<lower=0> s_mu; // sd of trend\n",
    "}\n",
    "\n",
    "transformed parameters {\n",
    "    real y_hat[T]; // prediction\n",
    "\n",
    "    for(t in 1:T) {\n",
    "        y_hat[t] = mu[t];\n",
    "    }\n",
    "}\n",
    "\n",
    "model {\n",
    "    for(t in 1:T) {\n",
    "        Y[t] ~ normal(mu[t], s_y);\n",
    "    }\n",
    "    for(t in 2:T) {\n",
    "        mu[t] ~ normal(mu[t-1], s_mu);\n",
    "    }\n",
    "}\n",
    "\n",
    "generated quantities {\n",
    "    real mu_pred[T+M];\n",
    "    real y_pred[T+M];\n",
    "\n",
    "    for(t in 1:T) {\n",
    "        mu_pred[t] = mu[t];\n",
    "        y_pred[t] = y_hat[t];\n",
    "    }\n",
    "    for(t in (T+1):(T+M)) {\n",
    "        mu_pred[t] = normal_rng(mu_pred[t-1], s_mu);\n",
    "        y_pred[t] = mu_pred[t];\n",
    "    }\n",
    "}\n",
    "\"\"\""
   ]
  },
  {
   "cell_type": "code",
   "execution_count": null,
   "metadata": {
    "colab": {
     "base_uri": "https://localhost:8080/"
    },
    "id": "3dloraHQDTjy",
    "outputId": "5ab6862d-da6a-4548-fa6d-522fb20d31df"
   },
   "outputs": [],
   "source": [
    "stan_model = pystan.StanModel(model_code=local_level)"
   ]
  },
  {
   "cell_type": "code",
   "execution_count": null,
   "metadata": {
    "id": "kO_OwTskDZzx"
   },
   "outputs": [],
   "source": [
    "y = df[\"Passengers\"]\n",
    "T = 130 #学習期間\n",
    "M = 14 #予測期間\n",
    "\n",
    "y_train = y[:-M]\n",
    "y_test = y[-M:]"
   ]
  },
  {
   "cell_type": "code",
   "execution_count": null,
   "metadata": {
    "id": "MEbWs13eEeT7"
   },
   "outputs": [],
   "source": [
    "y_train = y[:-M]\n",
    "y_test = y[-M:]"
   ]
  },
  {
   "cell_type": "code",
   "execution_count": null,
   "metadata": {
    "id": "keLDZ27IEt8C"
   },
   "outputs": [],
   "source": [
    "predict_dat = {'T': T, 'M' : M, 'Y': y_train}"
   ]
  },
  {
   "cell_type": "code",
   "execution_count": null,
   "metadata": {
    "colab": {
     "base_uri": "https://localhost:8080/"
    },
    "id": "fDqz6h_mFNhY",
    "outputId": "6082bdda-85c5-4bcc-e685-987776b82100"
   },
   "outputs": [],
   "source": [
    "fit_local_level = stan_model.sampling(data=predict_dat, iter=3000, chains=1, seed=10, n_jobs=1)"
   ]
  },
  {
   "cell_type": "code",
   "execution_count": null,
   "metadata": {
    "colab": {
     "base_uri": "https://localhost:8080/"
    },
    "id": "orSubpamFlN_",
    "outputId": "16ba6ebf-2444-4849-dd2e-03cec9c78c91"
   },
   "outputs": [],
   "source": [
    "fit_local_level"
   ]
  },
  {
   "cell_type": "code",
   "execution_count": null,
   "metadata": {
    "id": "TIg-GasNJHtc"
   },
   "outputs": [],
   "source": [
    "# サンプリング結果の抽出\n",
    "ms_local_level = fit_local_level.extract()\n",
    "y_pred = ms_local_level['y_pred'].mean(axis=0)"
   ]
  },
  {
   "cell_type": "code",
   "execution_count": null,
   "metadata": {
    "id": "ooy5KtjuJezn"
   },
   "outputs": [],
   "source": [
    "quantile = [5, 95]\n",
    "per_5_95 = np.percentile(ms_local_level['y_pred'], q=quantile, axis=0).T\n",
    "colname = ['p5', 'p95']\n",
    "df_pred = pd.DataFrame(per_5_95, columns=colname)"
   ]
  },
  {
   "cell_type": "code",
   "execution_count": null,
   "metadata": {
    "colab": {
     "base_uri": "https://localhost:8080/",
     "height": 419
    },
    "id": "PRZ54VJeJki7",
    "outputId": "0f0b8bb1-dccc-4004-eb12-6e126606df38"
   },
   "outputs": [],
   "source": [
    "df_pred"
   ]
  },
  {
   "cell_type": "code",
   "execution_count": null,
   "metadata": {
    "id": "VuOf9vT3JmDJ"
   },
   "outputs": [],
   "source": [
    "# 予測値を追加\n",
    "df_pred['y_pred'] = y_pred"
   ]
  },
  {
   "cell_type": "code",
   "execution_count": null,
   "metadata": {
    "id": "xB93QME8Jn5q"
   },
   "outputs": [],
   "source": [
    "mu_hat = ms_local_level['mu'].mean(axis=0)"
   ]
  },
  {
   "cell_type": "code",
   "execution_count": null,
   "metadata": {
    "id": "lkNcT7-yJpeb"
   },
   "outputs": [],
   "source": [
    "# 状態の推定値を追加\n",
    "df_pred['mu_hat'] = np.nan\n",
    "df_pred.loc[0:129,'mu_hat'] = mu_hat"
   ]
  },
  {
   "cell_type": "code",
   "execution_count": null,
   "metadata": {
    "colab": {
     "base_uri": "https://localhost:8080/",
     "height": 377
    },
    "id": "fx1v5t8UJqhA",
    "outputId": "e372d5fb-b1ce-4d15-e011-3b74062fd50c"
   },
   "outputs": [],
   "source": [
    "df.plot(y=\"Passengers\", legend=False) # 目的変数\n",
    "plt.plot(df_pred[['p5','p95']][-14:], linestyle=\"dashed\", color='purple') # 予測区間\n",
    "plt.plot(df_pred[['y_pred']][-14:], color='red') # 予測値\n",
    "plt.plot(mu_hat, color='green') # 状態\n",
    "plt.show()"
   ]
  },
  {
   "cell_type": "code",
   "execution_count": null,
   "metadata": {
    "id": "vwHo5ZicJ6PQ"
   },
   "outputs": [],
   "source": []
  }
 ],
 "metadata": {
  "colab": {
   "authorship_tag": "ABX9TyNfjJkgCxlyBZYniFml40Fp",
   "name": "状態空間モデル.ipynb",
   "provenance": []
  },
  "kernelspec": {
   "display_name": "Python 3 (ipykernel)",
   "language": "python",
   "name": "python3"
  },
  "language_info": {
   "codemirror_mode": {
    "name": "ipython",
    "version": 3
   },
   "file_extension": ".py",
   "mimetype": "text/x-python",
   "name": "python",
   "nbconvert_exporter": "python",
   "pygments_lexer": "ipython3",
   "version": "3.8.6"
  }
 },
 "nbformat": 4,
 "nbformat_minor": 4
}
